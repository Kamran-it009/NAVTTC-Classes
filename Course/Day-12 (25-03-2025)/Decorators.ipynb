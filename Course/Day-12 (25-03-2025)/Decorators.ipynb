{
 "cells": [
  {
   "cell_type": "code",
   "execution_count": 9,
   "id": "ec609c63-b643-470b-8822-2465db48cd7a",
   "metadata": {},
   "outputs": [],
   "source": [
    "# This is the decorator function\n",
    "def my_decorator(func):\n",
    "    def wrapper():\n",
    "        print(\"Something is happening before the function is called.\")\n",
    "        func()\n",
    "        print(\"Something is happening after the function is called.\")\n",
    "    return wrapper"
   ]
  },
  {
   "cell_type": "code",
   "execution_count": 10,
   "id": "217b601c-bf80-4b07-8c22-af7c302e681b",
   "metadata": {},
   "outputs": [],
   "source": [
    "@my_decorator\n",
    "def sum():\n",
    "    print('I am a sum..')"
   ]
  },
  {
   "cell_type": "code",
   "execution_count": 11,
   "id": "c17dafde-3132-4c54-8ff5-ebde50248237",
   "metadata": {},
   "outputs": [
    {
     "name": "stdout",
     "output_type": "stream",
     "text": [
      "Something is happening before the function is called.\n",
      "I am a sum..\n",
      "Something is happening after the function is called.\n"
     ]
    }
   ],
   "source": [
    "sum()"
   ]
  },
  {
   "cell_type": "code",
   "execution_count": null,
   "id": "d4d56429-40be-4e27-b04d-e5ad85416ebb",
   "metadata": {},
   "outputs": [],
   "source": []
  }
 ],
 "metadata": {
  "kernelspec": {
   "display_name": "Python 3 (ipykernel)",
   "language": "python",
   "name": "python3"
  },
  "language_info": {
   "codemirror_mode": {
    "name": "ipython",
    "version": 3
   },
   "file_extension": ".py",
   "mimetype": "text/x-python",
   "name": "python",
   "nbconvert_exporter": "python",
   "pygments_lexer": "ipython3",
   "version": "3.12.4"
  }
 },
 "nbformat": 4,
 "nbformat_minor": 5
}
