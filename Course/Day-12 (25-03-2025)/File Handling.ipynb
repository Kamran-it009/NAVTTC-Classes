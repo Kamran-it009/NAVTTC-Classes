{
 "cells": [
  {
   "cell_type": "code",
   "execution_count": 19,
   "id": "87dce1b3-86fa-4a1f-ab2b-ad69dd96e68d",
   "metadata": {},
   "outputs": [
    {
     "name": "stdout",
     "output_type": "stream",
     "text": [
      "<_io.TextIOWrapper name='data.txt' mode='r' encoding='cp1252'>\n"
     ]
    }
   ],
   "source": [
    "file = open('data.txt', mode = 'r')\n",
    "print(file)"
   ]
  },
  {
   "cell_type": "code",
   "execution_count": 5,
   "id": "f9933746-3357-430e-a9cb-56406af783fa",
   "metadata": {},
   "outputs": [
    {
     "name": "stdout",
     "output_type": "stream",
     "text": [
      "Hello Corvit..!\n",
      "We are Learning Advance Python Programming. \n",
      "We are learning File handling..\n"
     ]
    }
   ],
   "source": [
    "print(file.read())"
   ]
  },
  {
   "cell_type": "code",
   "execution_count": 7,
   "id": "7fa35b82-a2bf-4670-bb1a-9e1bcfc45c8a",
   "metadata": {},
   "outputs": [
    {
     "name": "stdout",
     "output_type": "stream",
     "text": [
      "<class 'str'>\n"
     ]
    }
   ],
   "source": [
    "file_data = file.read()\n",
    "print(type(file_data))"
   ]
  },
  {
   "cell_type": "code",
   "execution_count": 8,
   "id": "dad949e1-8eea-4e38-9e44-2823b8ba7796",
   "metadata": {},
   "outputs": [
    {
     "name": "stdout",
     "output_type": "stream",
     "text": [
      "\n"
     ]
    }
   ],
   "source": [
    "print(file.read())"
   ]
  },
  {
   "cell_type": "code",
   "execution_count": 11,
   "id": "365f2677-848a-41dd-adff-9876b3fadc5c",
   "metadata": {},
   "outputs": [
    {
     "name": "stdout",
     "output_type": "stream",
     "text": [
      "Hello Corvit..!\n",
      "We are Learning Advance Python Programming. \n",
      "We are learning File handling..\n"
     ]
    }
   ],
   "source": [
    "file.seek(0)\n",
    "print(file.read())"
   ]
  },
  {
   "cell_type": "code",
   "execution_count": 15,
   "id": "9facc5a2-304f-43ec-8b0a-dec321eb1885",
   "metadata": {},
   "outputs": [
    {
     "name": "stdout",
     "output_type": "stream",
     "text": [
      "Hello Corvit..!\n",
      "\n"
     ]
    }
   ],
   "source": [
    "print(file.readline())"
   ]
  },
  {
   "cell_type": "code",
   "execution_count": 16,
   "id": "89cc9cae-877b-41f9-9af3-91a9c2d7ac3a",
   "metadata": {},
   "outputs": [
    {
     "name": "stdout",
     "output_type": "stream",
     "text": [
      "We are Learning Advance Python Programming. \n",
      "\n"
     ]
    }
   ],
   "source": [
    "print(file.readline())"
   ]
  },
  {
   "cell_type": "code",
   "execution_count": 17,
   "id": "ba781cc2-c1d6-43ad-912a-6b6037914df5",
   "metadata": {},
   "outputs": [
    {
     "name": "stdout",
     "output_type": "stream",
     "text": [
      "We are learning File handling..\n"
     ]
    }
   ],
   "source": [
    "print(file.readline())"
   ]
  },
  {
   "cell_type": "code",
   "execution_count": 20,
   "id": "a387fbc5-85b4-48ce-a807-1ec334abdbbf",
   "metadata": {},
   "outputs": [
    {
     "name": "stdout",
     "output_type": "stream",
     "text": [
      "['Hello Corvit..!\\n', 'We are Learning Advance Python Programming. \\n', 'We are learning File handling..']\n"
     ]
    }
   ],
   "source": [
    "lines = file.readlines()\n",
    "print(lines)"
   ]
  },
  {
   "cell_type": "code",
   "execution_count": 21,
   "id": "42e81390-4326-41ff-a9de-2f3161024190",
   "metadata": {},
   "outputs": [
    {
     "name": "stdout",
     "output_type": "stream",
     "text": [
      "We are learning File handling..\n"
     ]
    }
   ],
   "source": [
    "print(lines[2])"
   ]
  },
  {
   "cell_type": "code",
   "execution_count": 22,
   "id": "8d7af68c-e32b-4611-880f-e74748d8398a",
   "metadata": {},
   "outputs": [],
   "source": [
    "file.close()"
   ]
  },
  {
   "cell_type": "code",
   "execution_count": 23,
   "id": "9b6c8281-0be4-41b6-a91c-e75fa03e6b8d",
   "metadata": {},
   "outputs": [
    {
     "ename": "ValueError",
     "evalue": "I/O operation on closed file.",
     "output_type": "error",
     "traceback": [
      "\u001b[1;31m---------------------------------------------------------------------------\u001b[0m",
      "\u001b[1;31mValueError\u001b[0m                                Traceback (most recent call last)",
      "Cell \u001b[1;32mIn[23], line 1\u001b[0m\n\u001b[1;32m----> 1\u001b[0m file\u001b[38;5;241m.\u001b[39mread()\n",
      "\u001b[1;31mValueError\u001b[0m: I/O operation on closed file."
     ]
    }
   ],
   "source": [
    "file.read()"
   ]
  },
  {
   "cell_type": "code",
   "execution_count": 24,
   "id": "dd5090d0-a9fb-41c9-916d-cb7747d801b0",
   "metadata": {},
   "outputs": [
    {
     "name": "stdout",
     "output_type": "stream",
     "text": [
      "Hello Corvit..!\n",
      "We are Learning Advance Python Programming. \n",
      "We are learning File handling..\n"
     ]
    }
   ],
   "source": [
    "file = open('data.txt', mode = 'r')\n",
    "print(file.read())\n",
    "file.close()"
   ]
  },
  {
   "cell_type": "code",
   "execution_count": 26,
   "id": "ca69bbe8-6faa-4909-acbf-7f4a8e78e4e7",
   "metadata": {},
   "outputs": [
    {
     "name": "stdout",
     "output_type": "stream",
     "text": [
      "Hello Corvit..!\n",
      "We are Learning Advance Python Programming. \n",
      "We are learning File handling..\n"
     ]
    }
   ],
   "source": [
    "with open('data.txt', mode = 'r') as file:\n",
    "    print(file.read())"
   ]
  },
  {
   "cell_type": "code",
   "execution_count": 27,
   "id": "9f22f1d3-4669-4968-98f6-92fb16bf2dc8",
   "metadata": {},
   "outputs": [
    {
     "ename": "ValueError",
     "evalue": "I/O operation on closed file.",
     "output_type": "error",
     "traceback": [
      "\u001b[1;31m---------------------------------------------------------------------------\u001b[0m",
      "\u001b[1;31mValueError\u001b[0m                                Traceback (most recent call last)",
      "Cell \u001b[1;32mIn[27], line 1\u001b[0m\n\u001b[1;32m----> 1\u001b[0m file\u001b[38;5;241m.\u001b[39mread()\n",
      "\u001b[1;31mValueError\u001b[0m: I/O operation on closed file."
     ]
    }
   ],
   "source": [
    "file.read()"
   ]
  },
  {
   "cell_type": "code",
   "execution_count": 28,
   "id": "46ab3531-21cb-48b8-84fa-ebfba8fe1871",
   "metadata": {},
   "outputs": [],
   "source": [
    "with open(\"data.txt\", 'w') as file:  \n",
    "    file.write(\"Pakistan zinda bad\")"
   ]
  },
  {
   "cell_type": "code",
   "execution_count": 29,
   "id": "b27487b2-1a28-4309-8a32-c1dc7b692257",
   "metadata": {},
   "outputs": [],
   "source": [
    "with open(\"data.txt\", 'a') as file:\n",
    "    file.write(\"\\nwe are learning Python..\")"
   ]
  },
  {
   "cell_type": "code",
   "execution_count": 32,
   "id": "95be5092-433b-4d49-91fc-8bf6b560566a",
   "metadata": {},
   "outputs": [
    {
     "name": "stdout",
     "output_type": "stream",
     "text": [
      " learning Python..\n",
      "\n"
     ]
    }
   ],
   "source": [
    "with open(\"data.txt\", '+r') as file:\n",
    "    file.write(\"\\nwe are learning corvit..\")\n",
    "    print(file.readline())\n"
   ]
  },
  {
   "cell_type": "code",
   "execution_count": null,
   "id": "c599f6ae-af26-461b-8cb7-5453ab155391",
   "metadata": {},
   "outputs": [],
   "source": []
  }
 ],
 "metadata": {
  "kernelspec": {
   "display_name": "Python 3 (ipykernel)",
   "language": "python",
   "name": "python3"
  },
  "language_info": {
   "codemirror_mode": {
    "name": "ipython",
    "version": 3
   },
   "file_extension": ".py",
   "mimetype": "text/x-python",
   "name": "python",
   "nbconvert_exporter": "python",
   "pygments_lexer": "ipython3",
   "version": "3.12.4"
  }
 },
 "nbformat": 4,
 "nbformat_minor": 5
}
