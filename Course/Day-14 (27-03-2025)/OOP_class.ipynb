{
 "cells": [
  {
   "cell_type": "markdown",
   "id": "baf5343f-ad5e-40f7-a060-cb9cf18d9ad1",
   "metadata": {},
   "source": [
    "# Object-Oriented-Programming"
   ]
  },
  {
   "cell_type": "markdown",
   "id": "451cf0a8",
   "metadata": {},
   "source": [
    "### Class"
   ]
  },
  {
   "cell_type": "markdown",
   "id": "8943774f",
   "metadata": {},
   "source": [
    "A class is a blueprint or a template for creating objects. It defines a type of object and its behavior. In Python, a class is created using the class keyword."
   ]
  },
  {
   "cell_type": "code",
   "execution_count": 11,
   "id": "0166b55c-0e98-4e5b-9663-af860aca23e6",
   "metadata": {},
   "outputs": [],
   "source": [
    "class Person:\n",
    "    name = 'Kamran'\n",
    "    age = 29\n",
    "    height = 5.4\n",
    "    qualification = 'MSCS'\n",
    "    roll_no = 'MS101'\n",
    "\n",
    "    def walk(self):\n",
    "        print('Person is walking')\n",
    "        \n",
    "    def talk(self):\n",
    "        print('Person is walking')\n",
    "\n",
    "    def eat(self):\n",
    "        print('Person is eating')"
   ]
  },
  {
   "cell_type": "markdown",
   "id": "c32ae10d",
   "metadata": {},
   "source": [
    "### Object Creation"
   ]
  },
  {
   "cell_type": "markdown",
   "id": "77477cee",
   "metadata": {},
   "source": [
    "An object is an instance of a class. It is created by calling the class as if it were a function, passing any required arguments to the constructor."
   ]
  },
  {
   "cell_type": "code",
   "execution_count": 12,
   "id": "e27f3a7e-77d0-4e9c-b96b-01e7f77d0092",
   "metadata": {},
   "outputs": [],
   "source": [
    "p1 = Person() # p1 is an instance of class Person. "
   ]
  },
  {
   "cell_type": "code",
   "execution_count": 13,
   "id": "2380cec7-d771-44ad-acb3-87f55ef46974",
   "metadata": {},
   "outputs": [
    {
     "data": {
      "text/plain": [
       "'Kamran'"
      ]
     },
     "execution_count": 13,
     "metadata": {},
     "output_type": "execute_result"
    }
   ],
   "source": [
    "p1.name"
   ]
  },
  {
   "cell_type": "code",
   "execution_count": 14,
   "id": "92de537a-5d79-4044-b396-9e52c1f3f20d",
   "metadata": {},
   "outputs": [
    {
     "data": {
      "text/plain": [
       "29"
      ]
     },
     "execution_count": 14,
     "metadata": {},
     "output_type": "execute_result"
    }
   ],
   "source": [
    "p1.age"
   ]
  },
  {
   "cell_type": "code",
   "execution_count": null,
   "id": "906b34f9-88f9-47e2-b6f5-904d758f8e95",
   "metadata": {},
   "outputs": [
    {
     "name": "stdout",
     "output_type": "stream",
     "text": [
      "Person is walking\n",
      "Person is walking\n"
     ]
    }
   ],
   "source": [
    "p1.talk()\n",
    "p1.walk()\n"
   ]
  },
  {
   "cell_type": "markdown",
   "id": "8fa8b552",
   "metadata": {},
   "source": [
    "### Another example of class and object"
   ]
  },
  {
   "cell_type": "code",
   "execution_count": 17,
   "id": "c05e2d53-4e7a-41a0-b5d6-f4a4e4fd7b67",
   "metadata": {},
   "outputs": [],
   "source": [
    "class Person1:\n",
    "    name = 'Ali'\n",
    "    age = 30\n",
    "    height = 5.5\n",
    "    qualification = 'M-phill'\n",
    "    roll_no = 'MS102'\n",
    "\n",
    "    def walk(self):\n",
    "        print('Person is walking')\n",
    "        \n",
    "    def talk(self):\n",
    "        print('Person is walking')\n",
    "\n",
    "    def eat(self):\n",
    "        print('Person is eating')"
   ]
  },
  {
   "cell_type": "code",
   "execution_count": 19,
   "id": "47c67947-26e2-4f45-bae7-9f306b6dc1e3",
   "metadata": {},
   "outputs": [
    {
     "name": "stdout",
     "output_type": "stream",
     "text": [
      "Ali\n",
      "Person is walking\n"
     ]
    }
   ],
   "source": [
    "p2 = Person1()\n",
    "print(p2.name)\n",
    "p2.talk()"
   ]
  },
  {
   "cell_type": "code",
   "execution_count": 21,
   "id": "2ff5006f-2f6c-4881-8508-2d28df99f139",
   "metadata": {},
   "outputs": [
    {
     "data": {
      "text/plain": [
       "'Ali'"
      ]
     },
     "execution_count": 21,
     "metadata": {},
     "output_type": "execute_result"
    }
   ],
   "source": [
    "Person.name # you can access class variable using class name\n",
    "Person1.name # you can access class variable using class name"
   ]
  },
  {
   "cell_type": "code",
   "execution_count": 1,
   "id": "07e5436f-779d-4f08-a8e2-8acd2109db63",
   "metadata": {},
   "outputs": [],
   "source": [
    "class Animal:\n",
    "    name = 'Dog'\n",
    "    age = 3\n",
    "\n",
    "    def walk():\n",
    "        print('Animal is walking')\n",
    "\n",
    "    def eat():\n",
    "        print('Animal is eating')"
   ]
  },
  {
   "cell_type": "code",
   "execution_count": 2,
   "id": "c5a0981c",
   "metadata": {},
   "outputs": [
    {
     "name": "stdout",
     "output_type": "stream",
     "text": [
      "Animal is walking\n",
      "Animal is eating\n"
     ]
    }
   ],
   "source": [
    "Animal.walk() # you can access class method using class name\n",
    "Animal.eat() # you can access class method using class name"
   ]
  },
  {
   "cell_type": "code",
   "execution_count": 85,
   "id": "5e97c907-23cd-4dc4-88eb-cfbece3cbbd6",
   "metadata": {},
   "outputs": [],
   "source": [
    "class Animal:\n",
    "    name = 'Dog'\n",
    "    age = 3\n",
    "\n",
    "    def walk(self):\n",
    "        print('Animal is walking')\n",
    "\n",
    "    def eat():\n",
    "        print('Animal is eating')"
   ]
  },
  {
   "cell_type": "code",
   "execution_count": 86,
   "id": "3a3f1488-c864-4db0-8925-28973574ee07",
   "metadata": {},
   "outputs": [],
   "source": [
    "a = Animal()"
   ]
  },
  {
   "cell_type": "code",
   "execution_count": 87,
   "id": "aab24e7f-6823-43fe-89ff-434f15f3ccbc",
   "metadata": {},
   "outputs": [
    {
     "name": "stdout",
     "output_type": "stream",
     "text": [
      "Animal is walking\n"
     ]
    }
   ],
   "source": [
    "a.walk()"
   ]
  },
  {
   "cell_type": "code",
   "execution_count": 88,
   "id": "c1d9e918-92a5-4db2-9432-264801d58b3c",
   "metadata": {},
   "outputs": [
    {
     "name": "stdout",
     "output_type": "stream",
     "text": [
      "Animal is eating\n"
     ]
    }
   ],
   "source": [
    "Animal.eat()"
   ]
  },
  {
   "cell_type": "code",
   "execution_count": 89,
   "id": "3175f8e8-e7af-4f12-8a99-4e100977eeef",
   "metadata": {},
   "outputs": [
    {
     "ename": "TypeError",
     "evalue": "Animal.eat() takes 0 positional arguments but 1 was given",
     "output_type": "error",
     "traceback": [
      "\u001b[1;31m---------------------------------------------------------------------------\u001b[0m",
      "\u001b[1;31mTypeError\u001b[0m                                 Traceback (most recent call last)",
      "Cell \u001b[1;32mIn[89], line 1\u001b[0m\n\u001b[1;32m----> 1\u001b[0m a\u001b[38;5;241m.\u001b[39meat()\n",
      "\u001b[1;31mTypeError\u001b[0m: Animal.eat() takes 0 positional arguments but 1 was given"
     ]
    }
   ],
   "source": [
    "a.eat()"
   ]
  },
  {
   "cell_type": "code",
   "execution_count": 7,
   "id": "27d54d91-ceca-4b2e-8680-5be041befe20",
   "metadata": {},
   "outputs": [],
   "source": [
    "class Person:\n",
    "    def __init__(self, name, age): # constructor method\n",
    "        self.name = name # object attriburtes\n",
    "        self.age = age # object attriburtes\n",
    "    \n",
    "    def walk(self): # object methods\n",
    "        print('The person is walking')"
   ]
  },
  {
   "cell_type": "code",
   "execution_count": 9,
   "id": "d38fe95e-08c4-4ffc-82df-dacceb0cf560",
   "metadata": {},
   "outputs": [],
   "source": [
    "p1 = Person('Ali', 23)"
   ]
  },
  {
   "cell_type": "code",
   "execution_count": 10,
   "id": "3016394f-bd20-4c71-9c2e-70d94070f6ce",
   "metadata": {},
   "outputs": [
    {
     "data": {
      "text/plain": [
       "'Ali'"
      ]
     },
     "execution_count": 10,
     "metadata": {},
     "output_type": "execute_result"
    }
   ],
   "source": [
    "p1.name"
   ]
  },
  {
   "cell_type": "code",
   "execution_count": 11,
   "id": "8aac017f-126a-4e6f-b5c9-f61a4a263e8b",
   "metadata": {},
   "outputs": [
    {
     "data": {
      "text/plain": [
       "23"
      ]
     },
     "execution_count": 11,
     "metadata": {},
     "output_type": "execute_result"
    }
   ],
   "source": [
    "p1.age"
   ]
  },
  {
   "cell_type": "code",
   "execution_count": 12,
   "id": "2f8ac745-ee79-46f6-8c36-f779282e3772",
   "metadata": {},
   "outputs": [],
   "source": [
    "p2 = Person('Hassan', 24)"
   ]
  },
  {
   "cell_type": "code",
   "execution_count": 13,
   "id": "56257505-a574-4c7f-a53f-5e1762097b19",
   "metadata": {},
   "outputs": [
    {
     "data": {
      "text/plain": [
       "'Hassan'"
      ]
     },
     "execution_count": 13,
     "metadata": {},
     "output_type": "execute_result"
    }
   ],
   "source": [
    "p2.name"
   ]
  },
  {
   "cell_type": "code",
   "execution_count": 24,
   "id": "f4a3170a-861f-4a34-a0e5-1dcfd7674caf",
   "metadata": {},
   "outputs": [],
   "source": [
    "class Person:\n",
    "    membership = True\n",
    "    def __init__(a, name, age): # constructor method\n",
    "        a.name, a.age = name, age # object attriburtes\n",
    "\n",
    "    \n",
    "    def walk(a): # object methods\n",
    "        print('The person is walking')"
   ]
  },
  {
   "cell_type": "code",
   "execution_count": 22,
   "id": "ed3d9737-f4e6-4517-9780-8b9b8c6038da",
   "metadata": {},
   "outputs": [],
   "source": [
    "p3  = Person('Kamran', 23)"
   ]
  },
  {
   "cell_type": "code",
   "execution_count": 23,
   "id": "43517b27-1d7f-44b7-b3d1-330d47bb772d",
   "metadata": {},
   "outputs": [
    {
     "data": {
      "text/plain": [
       "'Kamran'"
      ]
     },
     "execution_count": 23,
     "metadata": {},
     "output_type": "execute_result"
    }
   ],
   "source": [
    "p3.name"
   ]
  },
  {
   "cell_type": "code",
   "execution_count": 18,
   "id": "e8f57998-9665-41ce-8f0d-04a899adf336",
   "metadata": {},
   "outputs": [],
   "source": [
    "p3  = Person(age = 30, name = 'Muqadir')"
   ]
  },
  {
   "cell_type": "code",
   "execution_count": 19,
   "id": "2b863d5d-da47-4970-99f5-a2e8e32bbaa6",
   "metadata": {},
   "outputs": [
    {
     "data": {
      "text/plain": [
       "30"
      ]
     },
     "execution_count": 19,
     "metadata": {},
     "output_type": "execute_result"
    }
   ],
   "source": [
    "p3.age"
   ]
  },
  {
   "cell_type": "code",
   "execution_count": 25,
   "id": "6bc71f61-c9a2-48a5-9d17-4c3a59497034",
   "metadata": {},
   "outputs": [],
   "source": [
    "class Person:\n",
    "    def __init__(self):\n",
    "        pass # constructor method\n",
    "    \n",
    "    def walk(self): # object methods\n",
    "        print('The person is walking')"
   ]
  },
  {
   "cell_type": "code",
   "execution_count": 26,
   "id": "d4d27503-2a6c-4b86-b407-114cd8a01089",
   "metadata": {},
   "outputs": [],
   "source": [
    "class Person():\n",
    "    def __init__(self, name, age, gender):\n",
    "        self.name = name\n",
    "        self.age = age\n",
    "        self.gender = gender\n",
    "        \n",
    "    def walk(self):\n",
    "        print('He is Walking...')\n",
    "\n",
    "class Student(Person):\n",
    "    roll_no = 1231\n",
    "    def register_course(self):\n",
    "        print('Computer Science course is registered')"
   ]
  },
  {
   "cell_type": "code",
   "execution_count": 28,
   "id": "01fdbaed-f847-4290-b721-b1b2827eafc9",
   "metadata": {},
   "outputs": [],
   "source": [
    "student1 = Student('Kamran', 30, 'male')"
   ]
  },
  {
   "cell_type": "code",
   "execution_count": 29,
   "id": "c3dfb181-af0a-453d-ab63-4cb015f6753c",
   "metadata": {},
   "outputs": [
    {
     "data": {
      "text/plain": [
       "'Kamran'"
      ]
     },
     "execution_count": 29,
     "metadata": {},
     "output_type": "execute_result"
    }
   ],
   "source": [
    "student1.name"
   ]
  },
  {
   "cell_type": "code",
   "execution_count": 30,
   "id": "3426924d-6790-4b1d-9f92-18dc58afc562",
   "metadata": {},
   "outputs": [
    {
     "name": "stdout",
     "output_type": "stream",
     "text": [
      "He is Walking...\n"
     ]
    }
   ],
   "source": [
    "student1.walk()"
   ]
  },
  {
   "cell_type": "code",
   "execution_count": 31,
   "id": "b206f70a-b872-4956-87f1-4b716a543661",
   "metadata": {},
   "outputs": [
    {
     "name": "stdout",
     "output_type": "stream",
     "text": [
      "Computer Science course is registered\n"
     ]
    }
   ],
   "source": [
    "student1.register_course()"
   ]
  },
  {
   "cell_type": "code",
   "execution_count": 32,
   "id": "02778203-9e8a-4003-9c0f-4884df617d08",
   "metadata": {},
   "outputs": [],
   "source": [
    "class Father:\n",
    "    def skills1(self):\n",
    "        print(\"Father: Gardening\")\n",
    "\n",
    "# Second parent class\n",
    "class Mother:\n",
    "    def skills2(self):\n",
    "        print(\"Mother: Cooking\")\n",
    "\n",
    "# Child class inheriting from both\n",
    "class Child(Father, Mother):\n",
    "    def own_skill(self):\n",
    "        print(\"Child: Painting\")"
   ]
  },
  {
   "cell_type": "code",
   "execution_count": 33,
   "id": "135a423f-6809-483c-8ce9-17f8fcddfc15",
   "metadata": {},
   "outputs": [],
   "source": [
    "c = Child()"
   ]
  },
  {
   "cell_type": "code",
   "execution_count": 35,
   "id": "b79a918a-36ff-4595-bf6c-ae65e8d562ad",
   "metadata": {},
   "outputs": [
    {
     "name": "stdout",
     "output_type": "stream",
     "text": [
      "Father: Gardening\n"
     ]
    }
   ],
   "source": [
    "c.skills1()"
   ]
  },
  {
   "cell_type": "code",
   "execution_count": 36,
   "id": "6be8131f-39f3-4786-b21f-42700117b2d8",
   "metadata": {},
   "outputs": [
    {
     "name": "stdout",
     "output_type": "stream",
     "text": [
      "Mother: Cooking\n"
     ]
    }
   ],
   "source": [
    "c.skills2()"
   ]
  },
  {
   "cell_type": "code",
   "execution_count": 37,
   "id": "b3558aa9-0395-4edb-af7a-cdfa54d25342",
   "metadata": {},
   "outputs": [
    {
     "name": "stdout",
     "output_type": "stream",
     "text": [
      "Child: Painting\n"
     ]
    }
   ],
   "source": [
    "c.own_skill()"
   ]
  },
  {
   "cell_type": "code",
   "execution_count": 38,
   "id": "d517fd1c-a2f2-452a-8285-4c1d6ac9f0e9",
   "metadata": {},
   "outputs": [],
   "source": [
    "class Person():\n",
    "    def __init__(self, name, age, martial_status): # constructor method\n",
    "        self.name = name # public attribute\n",
    "        self._age = age # protected attribute\n",
    "        self.__status = martial_status # private attribute\n",
    "    \n",
    "    def walk(self): # class method\n",
    "        print('The person is walking')\n",
    "\n",
    "    # Getter method\n",
    "    def get_status(self):\n",
    "        return self.__status\n",
    "\n",
    "    # Setter method\n",
    "    def set_status(self, new_value):\n",
    "        self.__status = new_value"
   ]
  },
  {
   "cell_type": "code",
   "execution_count": 39,
   "id": "8d43a39b-2236-4fc5-87b8-c9d5c21350c0",
   "metadata": {},
   "outputs": [
    {
     "name": "stdout",
     "output_type": "stream",
     "text": [
      "False\n"
     ]
    }
   ],
   "source": [
    "p1 = Person('Kamran', 30, False)\n",
    "print(p1.get_status())"
   ]
  },
  {
   "cell_type": "code",
   "execution_count": 40,
   "id": "9e78d445-b0dd-4097-ac4e-7ae79d412ac5",
   "metadata": {},
   "outputs": [
    {
     "name": "stdout",
     "output_type": "stream",
     "text": [
      "True\n"
     ]
    }
   ],
   "source": [
    "p1.set_status(True)\n",
    "print(p1.get_status())"
   ]
  },
  {
   "cell_type": "code",
   "execution_count": 58,
   "id": "5bc20a1a-ea12-4d90-b1a2-6ec2e8784274",
   "metadata": {},
   "outputs": [],
   "source": [
    "# Class definition\n",
    "class PlayerCharacter:\n",
    "    def __init__(self, name, age):\n",
    "            self.name = name\n",
    "            self.age = age\n",
    "    @staticmethod\n",
    "    def shout():\n",
    "        print(f'my name is..')\n",
    "    # staticmethod \n",
    "    @staticmethod\n",
    "    def jump():\n",
    "        print('Player is jumping')"
   ]
  },
  {
   "cell_type": "code",
   "execution_count": 59,
   "id": "ea57e8ea-3b1c-482e-ab3e-b931ebcb3cfc",
   "metadata": {},
   "outputs": [
    {
     "name": "stdout",
     "output_type": "stream",
     "text": [
      "my name is..\n"
     ]
    }
   ],
   "source": [
    "# Create object\n",
    "player1 = PlayerCharacter('Tom', 20)\n",
    "player1.shout()"
   ]
  },
  {
   "cell_type": "code",
   "execution_count": 60,
   "id": "dd3a65b6-430f-4844-9627-8253a56bb3a3",
   "metadata": {},
   "outputs": [
    {
     "name": "stdout",
     "output_type": "stream",
     "text": [
      "my name is..\n"
     ]
    }
   ],
   "source": [
    "PlayerCharacter.shout()"
   ]
  },
  {
   "cell_type": "code",
   "execution_count": 61,
   "id": "f70df47a-1b70-452c-8cd1-c630a50cf9dd",
   "metadata": {},
   "outputs": [
    {
     "name": "stdout",
     "output_type": "stream",
     "text": [
      "Player is jumping\n"
     ]
    }
   ],
   "source": [
    "player1.jump()"
   ]
  },
  {
   "cell_type": "code",
   "execution_count": 80,
   "id": "8c24e568-7aeb-4021-827d-b43a4a1a8d6e",
   "metadata": {},
   "outputs": [],
   "source": [
    "class Book:\n",
    "    def __init__(self, title, author):\n",
    "        self.title = title\n",
    "        self.author = author\n",
    "\n",
    "    def __str__(self):\n",
    "        return f\"Book: {self.title}\"\n",
    "\n",
    "    def __call__(self):\n",
    "        print(f\"Hello, {self.author}!\")\n",
    "\n",
    "    # def __repr__(self):\n",
    "    #     return f\"Info({self.title}, {self.author})\""
   ]
  },
  {
   "cell_type": "code",
   "execution_count": 81,
   "id": "2f7e5977-cf9f-454c-8065-cb0f22cee3bd",
   "metadata": {},
   "outputs": [
    {
     "name": "stdout",
     "output_type": "stream",
     "text": [
      "Book: Python Basics\n"
     ]
    }
   ],
   "source": [
    "b = Book(\"Python Basics\", 'Henry')\n",
    "print(b)  # __str__"
   ]
  },
  {
   "cell_type": "code",
   "execution_count": 82,
   "id": "4febc9ed-fdb2-458e-995e-564b2c251b65",
   "metadata": {},
   "outputs": [
    {
     "name": "stdout",
     "output_type": "stream",
     "text": [
      "Hello, Henry!\n"
     ]
    }
   ],
   "source": [
    "b()"
   ]
  }
 ],
 "metadata": {
  "kernelspec": {
   "display_name": "Python 3 (ipykernel)",
   "language": "python",
   "name": "python3"
  },
  "language_info": {
   "codemirror_mode": {
    "name": "ipython",
    "version": 3
   },
   "file_extension": ".py",
   "mimetype": "text/x-python",
   "name": "python",
   "nbconvert_exporter": "python",
   "pygments_lexer": "ipython3",
   "version": "3.12.4"
  }
 },
 "nbformat": 4,
 "nbformat_minor": 5
}
