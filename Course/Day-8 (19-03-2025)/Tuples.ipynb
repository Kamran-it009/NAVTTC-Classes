{
 "cells": [
  {
   "cell_type": "code",
   "execution_count": 1,
   "id": "0da17f51-cedb-4817-8ebb-798316c136be",
   "metadata": {},
   "outputs": [
    {
     "name": "stdout",
     "output_type": "stream",
     "text": [
      "('Potato', 'Spinish', 'Carrot', 'Onion', 'Garlic', 'Cabbage')\n"
     ]
    }
   ],
   "source": [
    "# Creating Tuples\n",
    "vegetables = ('Potato', 'Spinish', 'Carrot', 'Onion', 'Garlic', 'Cabbage')\n",
    "print(vegetables)"
   ]
  },
  {
   "cell_type": "code",
   "execution_count": 2,
   "id": "166c3cbc-bd5b-4bb1-8bd3-90ce99ec0189",
   "metadata": {},
   "outputs": [
    {
     "data": {
      "text/plain": [
       "'Onion'"
      ]
     },
     "execution_count": 2,
     "metadata": {},
     "output_type": "execute_result"
    }
   ],
   "source": [
    "vegetables[3]"
   ]
  },
  {
   "cell_type": "code",
   "execution_count": 3,
   "id": "2a7b3ed3-0047-4fc6-a8aa-53faa4e10666",
   "metadata": {},
   "outputs": [
    {
     "data": {
      "text/plain": [
       "'Garlic'"
      ]
     },
     "execution_count": 3,
     "metadata": {},
     "output_type": "execute_result"
    }
   ],
   "source": [
    "vegetables[-2]"
   ]
  },
  {
   "cell_type": "code",
   "execution_count": 4,
   "id": "c3311a84-a60b-41ab-bcc8-33cda73bb6f1",
   "metadata": {},
   "outputs": [
    {
     "data": {
      "text/plain": [
       "('Carrot', 'Onion', 'Garlic')"
      ]
     },
     "execution_count": 4,
     "metadata": {},
     "output_type": "execute_result"
    }
   ],
   "source": [
    "vegetables[2: 5]"
   ]
  },
  {
   "cell_type": "code",
   "execution_count": 5,
   "id": "3b9b88f7-873c-4050-b345-bd1e101b1b95",
   "metadata": {},
   "outputs": [
    {
     "ename": "TypeError",
     "evalue": "'tuple' object does not support item assignment",
     "output_type": "error",
     "traceback": [
      "\u001b[1;31m---------------------------------------------------------------------------\u001b[0m",
      "\u001b[1;31mTypeError\u001b[0m                                 Traceback (most recent call last)",
      "Cell \u001b[1;32mIn[5], line 1\u001b[0m\n\u001b[1;32m----> 1\u001b[0m \u001b[43mvegetables\u001b[49m\u001b[43m[\u001b[49m\u001b[38;5;241;43m2\u001b[39;49m\u001b[43m]\u001b[49m \u001b[38;5;241m=\u001b[39m \u001b[38;5;124m'\u001b[39m\u001b[38;5;124mGarlic\u001b[39m\u001b[38;5;124m'\u001b[39m\n",
      "\u001b[1;31mTypeError\u001b[0m: 'tuple' object does not support item assignment"
     ]
    }
   ],
   "source": [
    "vegetables[2] = 'Garlic'"
   ]
  },
  {
   "cell_type": "markdown",
   "id": "d36f1f7e-bec0-4a24-a4d6-040be5bbc039",
   "metadata": {},
   "source": [
    "##### Tuples do not support change (insertion, deletion, updation)"
   ]
  },
  {
   "cell_type": "code",
   "execution_count": 6,
   "id": "bd624c10-3cc4-4208-ba5d-e9987b4aee1e",
   "metadata": {},
   "outputs": [
    {
     "data": {
      "text/plain": [
       "6"
      ]
     },
     "execution_count": 6,
     "metadata": {},
     "output_type": "execute_result"
    }
   ],
   "source": [
    "len(vegetables)"
   ]
  },
  {
   "cell_type": "code",
   "execution_count": 7,
   "id": "529a0505-3d5b-40c2-ab10-ab9ad058076f",
   "metadata": {},
   "outputs": [
    {
     "data": {
      "text/plain": [
       "2621607992320"
      ]
     },
     "execution_count": 7,
     "metadata": {},
     "output_type": "execute_result"
    }
   ],
   "source": [
    "id(vegetables)"
   ]
  },
  {
   "cell_type": "code",
   "execution_count": 8,
   "id": "27a59738-82c3-46d8-93bb-54fd26bcd8cb",
   "metadata": {},
   "outputs": [
    {
     "data": {
      "text/plain": [
       "0"
      ]
     },
     "execution_count": 8,
     "metadata": {},
     "output_type": "execute_result"
    }
   ],
   "source": [
    "vegetables.index('Potato')"
   ]
  },
  {
   "cell_type": "code",
   "execution_count": 9,
   "id": "9168c749-ebbe-4a4f-97f5-163841713f7c",
   "metadata": {},
   "outputs": [
    {
     "ename": "AttributeError",
     "evalue": "'tuple' object has no attribute 'remove'",
     "output_type": "error",
     "traceback": [
      "\u001b[1;31m---------------------------------------------------------------------------\u001b[0m",
      "\u001b[1;31mAttributeError\u001b[0m                            Traceback (most recent call last)",
      "Cell \u001b[1;32mIn[9], line 1\u001b[0m\n\u001b[1;32m----> 1\u001b[0m \u001b[43mvegetables\u001b[49m\u001b[38;5;241;43m.\u001b[39;49m\u001b[43mremove\u001b[49m(\u001b[38;5;124m'\u001b[39m\u001b[38;5;124mPotato\u001b[39m\u001b[38;5;124m'\u001b[39m)\n",
      "\u001b[1;31mAttributeError\u001b[0m: 'tuple' object has no attribute 'remove'"
     ]
    }
   ],
   "source": [
    "vegetables.remove('Potato')"
   ]
  },
  {
   "cell_type": "code",
   "execution_count": 10,
   "id": "89aef28a-9f70-4060-afa3-a8d10e04cf92",
   "metadata": {},
   "outputs": [
    {
     "data": {
      "text/plain": [
       "tuple"
      ]
     },
     "execution_count": 10,
     "metadata": {},
     "output_type": "execute_result"
    }
   ],
   "source": [
    "type(vegetables)"
   ]
  },
  {
   "cell_type": "code",
   "execution_count": 11,
   "id": "00f616ed-0499-46c3-a7fb-dec70d533477",
   "metadata": {},
   "outputs": [
    {
     "ename": "AttributeError",
     "evalue": "'tuple' object has no attribute 'sort'",
     "output_type": "error",
     "traceback": [
      "\u001b[1;31m---------------------------------------------------------------------------\u001b[0m",
      "\u001b[1;31mAttributeError\u001b[0m                            Traceback (most recent call last)",
      "Cell \u001b[1;32mIn[11], line 1\u001b[0m\n\u001b[1;32m----> 1\u001b[0m \u001b[43mvegetables\u001b[49m\u001b[38;5;241;43m.\u001b[39;49m\u001b[43msort\u001b[49m()\n",
      "\u001b[1;31mAttributeError\u001b[0m: 'tuple' object has no attribute 'sort'"
     ]
    }
   ],
   "source": [
    "vegetables.sort()"
   ]
  },
  {
   "cell_type": "code",
   "execution_count": 12,
   "id": "ce227bba-0561-406d-9dfd-f0ba1ea1e10f",
   "metadata": {},
   "outputs": [],
   "source": [
    "# list()\n",
    "# tuple()\n",
    "# dict()\n",
    "# set()"
   ]
  },
  {
   "cell_type": "code",
   "execution_count": 15,
   "id": "a1dae0cd-0eaf-4b21-870e-3516705f08c1",
   "metadata": {},
   "outputs": [
    {
     "name": "stdout",
     "output_type": "stream",
     "text": [
      "['Potato', 'Spinish', 'Carrot', 'Onion', 'Garlic', 'Cabbage']\n"
     ]
    }
   ],
   "source": [
    "veg_list = list(vegetables)\n",
    "print(veg_list)"
   ]
  },
  {
   "cell_type": "code",
   "execution_count": 16,
   "id": "4f3dbacd-b01e-4599-952b-24735556bd02",
   "metadata": {},
   "outputs": [
    {
     "name": "stdout",
     "output_type": "stream",
     "text": [
      "['Potato', 'Spinish', 'Carrot', 'Onion', 'Tomato', 'Cabbage']\n"
     ]
    }
   ],
   "source": [
    "veg_list[-2] = 'Tomato'\n",
    "print(veg_list)"
   ]
  },
  {
   "cell_type": "code",
   "execution_count": 17,
   "id": "47cddf0c-def4-40cf-9c7f-49bdfec193ac",
   "metadata": {},
   "outputs": [
    {
     "name": "stdout",
     "output_type": "stream",
     "text": [
      "('Potato', 'Spinish', 'Carrot', 'Onion', 'Tomato', 'Cabbage')\n"
     ]
    }
   ],
   "source": [
    "vegetables = tuple(veg_list)\n",
    "print(vegetables)"
   ]
  },
  {
   "cell_type": "code",
   "execution_count": 5,
   "id": "5710165b",
   "metadata": {},
   "outputs": [
    {
     "name": "stdout",
     "output_type": "stream",
     "text": [
      "Positive\n"
     ]
    }
   ],
   "source": [
    "num = int(input('Enter no:'))\n",
    "print(\"Positive\") if num > 0 else print(\"Zero\")"
   ]
  },
  {
   "cell_type": "code",
   "execution_count": null,
   "id": "6ab2c039",
   "metadata": {},
   "outputs": [],
   "source": []
  }
 ],
 "metadata": {
  "kernelspec": {
   "display_name": "base",
   "language": "python",
   "name": "python3"
  },
  "language_info": {
   "codemirror_mode": {
    "name": "ipython",
    "version": 3
   },
   "file_extension": ".py",
   "mimetype": "text/x-python",
   "name": "python",
   "nbconvert_exporter": "python",
   "pygments_lexer": "ipython3",
   "version": "3.11.5"
  }
 },
 "nbformat": 4,
 "nbformat_minor": 5
}
