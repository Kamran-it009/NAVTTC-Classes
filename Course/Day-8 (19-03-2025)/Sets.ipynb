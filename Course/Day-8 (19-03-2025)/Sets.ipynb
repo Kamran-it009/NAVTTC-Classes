{
 "cells": [
  {
   "cell_type": "code",
   "execution_count": 6,
   "id": "e17f5bcb-4ee5-4e1b-97a2-1d495ab65c4c",
   "metadata": {},
   "outputs": [
    {
     "name": "stdout",
     "output_type": "stream",
     "text": [
      "{'orange', 'banana', 'watermelon', 'apple', 'cherry', 'melon'}\n"
     ]
    }
   ],
   "source": [
    "# Set Creation\n",
    "fruits = {'apple', 'banana', 'cherry', 'orange', 'melon', 'watermelon'}\n",
    "print(fruits)"
   ]
  },
  {
   "cell_type": "code",
   "execution_count": 7,
   "id": "c5a0d165-5c38-4370-b10b-c12c730ca1f0",
   "metadata": {},
   "outputs": [
    {
     "name": "stdout",
     "output_type": "stream",
     "text": [
      "1551965677248\n"
     ]
    }
   ],
   "source": [
    "print(id(fruits))"
   ]
  },
  {
   "cell_type": "code",
   "execution_count": 8,
   "id": "2771e884-5f74-43ff-8e4f-47eeb7c050b5",
   "metadata": {},
   "outputs": [
    {
     "name": "stdout",
     "output_type": "stream",
     "text": [
      "{'orange', 'watermelon', 'apple', 'cherry', 'melon'}\n"
     ]
    }
   ],
   "source": [
    "fruits = {'apple', 'apple', 'cherry', 'orange', 'melon', 'watermelon'}\n",
    "print(fruits)"
   ]
  },
  {
   "cell_type": "code",
   "execution_count": 11,
   "id": "435dc3dd-01a4-499d-8840-fa4f6d9664f9",
   "metadata": {},
   "outputs": [
    {
     "data": {
      "text/plain": [
       "'create a dictionary consisting of your name, age, qualification and hoobies.\\nyou must have a list of hobbies. \\n\\n1) access your name and greet yourself such as \"Hello you_name\".\\n2) access your age and add 5 years in it.\\n3) access your hobbies in such format:\\n    1. Playing cricket\\n    2. Reading books\\n    3. Fun with Friends'"
      ]
     },
     "execution_count": 11,
     "metadata": {},
     "output_type": "execute_result"
    }
   ],
   "source": [
    "'''create a dictionary consisting of your name, age, qualification and hoobies.\n",
    "you must have a list of hobbies. \n",
    "\n",
    "1) access your name and greet yourself such as \"Hello you_name\".\n",
    "2) access your age and add 5 years in it.\n",
    "3) access your hobbies in such format:\n",
    "    1. Playing cricket\n",
    "    2. Reading books\n",
    "    3. Fun with Friends'''"
   ]
  },
  {
   "cell_type": "code",
   "execution_count": null,
   "id": "d73abf11-78c4-452e-8c45-8ad86b840922",
   "metadata": {},
   "outputs": [],
   "source": []
  }
 ],
 "metadata": {
  "kernelspec": {
   "display_name": "Python 3 (ipykernel)",
   "language": "python",
   "name": "python3"
  },
  "language_info": {
   "codemirror_mode": {
    "name": "ipython",
    "version": 3
   },
   "file_extension": ".py",
   "mimetype": "text/x-python",
   "name": "python",
   "nbconvert_exporter": "python",
   "pygments_lexer": "ipython3",
   "version": "3.11.5"
  }
 },
 "nbformat": 4,
 "nbformat_minor": 5
}
