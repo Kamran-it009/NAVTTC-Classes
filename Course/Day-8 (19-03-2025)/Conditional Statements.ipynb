{
 "cells": [
  {
   "cell_type": "code",
   "execution_count": 1,
   "id": "6725be02-27df-4b52-8883-bf982eb7b50f",
   "metadata": {},
   "outputs": [
    {
     "name": "stdout",
     "output_type": "stream",
     "text": [
      "1-Kamran\n",
      "2-Kamran\n",
      "3-Kamran\n",
      "4-Kamran\n",
      "5-Kamran\n"
     ]
    }
   ],
   "source": [
    "print('1-Kamran')\n",
    "print('2-Kamran')\n",
    "print('3-Kamran')\n",
    "print('4-Kamran')\n",
    "print('5-Kamran')"
   ]
  },
  {
   "cell_type": "markdown",
   "id": "7831929d-342c-47bb-9904-efa35b9a775a",
   "metadata": {},
   "source": [
    "### Conditional Statements\n",
    "- ##### if\n",
    "- ##### if-else\n",
    "- ##### if-else-if"
   ]
  },
  {
   "cell_type": "code",
   "execution_count": null,
   "id": "6381ea14-d42a-4377-a781-5981326e3a94",
   "metadata": {},
   "outputs": [
    {
     "name": "stdout",
     "output_type": "stream",
     "text": [
      "Go to corvit\n"
     ]
    }
   ],
   "source": [
    "# IF Statement\n",
    "day = input('Enter Your day:')\n",
    "if day == 'Monday' or day == 'Tuesday' or day == 'Wednesday' or day == 'Thursday' or day == 'Friday':\n",
    "    print('Go to corvit')"
   ]
  },
  {
   "cell_type": "code",
   "execution_count": 11,
   "id": "91ace1b4-9a01-4923-beef-c63b69a54238",
   "metadata": {},
   "outputs": [
    {
     "name": "stdout",
     "output_type": "stream",
     "text": [
      "Enter Your day: Sunday\n"
     ]
    }
   ],
   "source": [
    "day = input('Enter Your day:')\n",
    "days = ['Monday', 'Tuesday', 'Wednesday', 'Thursday', 'Friday']\n",
    "if day in days:\n",
    "    print('Go to corvit')"
   ]
  },
  {
   "cell_type": "code",
   "execution_count": null,
   "id": "32ca5201-10af-4ef8-abf9-902923bb698c",
   "metadata": {},
   "outputs": [
    {
     "name": "stdout",
     "output_type": "stream",
     "text": [
      "Enter Your day: Monday\n"
     ]
    },
    {
     "name": "stdout",
     "output_type": "stream",
     "text": [
      "Go to corvit\n"
     ]
    }
   ],
   "source": [
    "# IF-ELSE Statement\n",
    "day = input('Enter Your day:')\n",
    "days = ['Monday', 'Tuesday', 'Wednesday', 'Thursday', 'Friday']\n",
    "if day in days:\n",
    "    print('Go to corvit')\n",
    "else:\n",
    "    print('Go to Picnic')"
   ]
  },
  {
   "cell_type": "code",
   "execution_count": null,
   "id": "d56ed620-e917-4170-8fc6-941dd0919a95",
   "metadata": {},
   "outputs": [
    {
     "name": "stdout",
     "output_type": "stream",
     "text": [
      "Enter Temperature: 42\n"
     ]
    },
    {
     "name": "stdout",
     "output_type": "stream",
     "text": [
      "Hot Day\n"
     ]
    }
   ],
   "source": [
    "# IF-ELSE-IF Statement\n",
    "temp = float(input('Enter Temperature:'))\n",
    "if temp <= 20:\n",
    "    print('Cold Day')\n",
    "elif temp > 20 and temp <= 30:\n",
    "    print('Pleasant Day')\n",
    "else:\n",
    "    print('Hot Day')"
   ]
  }
 ],
 "metadata": {
  "kernelspec": {
   "display_name": "base",
   "language": "python",
   "name": "python3"
  },
  "language_info": {
   "codemirror_mode": {
    "name": "ipython",
    "version": 3
   },
   "file_extension": ".py",
   "mimetype": "text/x-python",
   "name": "python",
   "nbconvert_exporter": "python",
   "pygments_lexer": "ipython3",
   "version": "3.11.5"
  }
 },
 "nbformat": 4,
 "nbformat_minor": 5
}
