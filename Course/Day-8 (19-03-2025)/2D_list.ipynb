{
 "cells": [
  {
   "cell_type": "markdown",
   "id": "59f9c7f7",
   "metadata": {},
   "source": [
    "### 2D-List"
   ]
  },
  {
   "cell_type": "code",
   "execution_count": 1,
   "id": "ae6dc2a4-c7b5-4209-b32e-41cf7002b6e1",
   "metadata": {},
   "outputs": [
    {
     "name": "stdout",
     "output_type": "stream",
     "text": [
      "[['apple', 'banana', 'cherry'], ['Brinjal', 'Potato', 'Radish']]\n"
     ]
    }
   ],
   "source": [
    "# Case no: 1\n",
    "fruits_veg = [['apple', 'banana', 'cherry'], ['Brinjal', 'Potato', 'Radish']]\n",
    "print(fruits_veg)"
   ]
  },
  {
   "cell_type": "code",
   "execution_count": 2,
   "id": "54fc5213-9b23-4f27-b723-948e2abed7cb",
   "metadata": {},
   "outputs": [
    {
     "name": "stdout",
     "output_type": "stream",
     "text": [
      "[['apple', 'banana', 'cherry'], ['Brinjal', 'Potato', 'Radish']]\n"
     ]
    }
   ],
   "source": [
    "# Case no: 1\n",
    "fruits_veg2 = ['apple', 'banana', 'cherry', ['Brinjal', 'Potato', 'Radish']]\n",
    "print(fruits_veg)"
   ]
  },
  {
   "cell_type": "code",
   "execution_count": 4,
   "id": "7656fa69-1a64-4c75-88d5-e4c2efb6a266",
   "metadata": {},
   "outputs": [
    {
     "name": "stdout",
     "output_type": "stream",
     "text": [
      "['Brinjal', 'Potato', 'Radish']\n",
      "Radish\n"
     ]
    }
   ],
   "source": [
    "print(fruits_veg[1])\n",
    "print(fruits_veg[1][2])"
   ]
  },
  {
   "cell_type": "code",
   "execution_count": 5,
   "id": "26ac4e31-d30b-42a3-9150-610f58967884",
   "metadata": {},
   "outputs": [
    {
     "name": "stdout",
     "output_type": "stream",
     "text": [
      "i\n"
     ]
    }
   ],
   "source": [
    "print(fruits_veg[1][2][3])"
   ]
  },
  {
   "cell_type": "code",
   "execution_count": 6,
   "id": "b4567cc2-b1c0-4c14-80bb-d00b79175bc9",
   "metadata": {},
   "outputs": [
    {
     "name": "stdout",
     "output_type": "stream",
     "text": [
      "[['apple', 'banana', 'cherry'], ['jeans', 'shirts'], ['Brinjal', 'Potato', 'Radish']]\n"
     ]
    }
   ],
   "source": [
    "fruits_veg.insert(1, ['jeans', 'shirts'])\n",
    "print(fruits_veg)"
   ]
  },
  {
   "cell_type": "code",
   "execution_count": 7,
   "id": "f9276dd6-1cb5-4bc9-82fa-4b9a80252d6b",
   "metadata": {},
   "outputs": [
    {
     "name": "stdout",
     "output_type": "stream",
     "text": [
      "['Laptop', ['apple', 'banana', 'cherry'], ['jeans', 'shirts'], ['Brinjal', 'Potato', 'Radish']]\n"
     ]
    }
   ],
   "source": [
    "fruits_veg.insert(0, 'Laptop')\n",
    "print(fruits_veg)"
   ]
  },
  {
   "cell_type": "code",
   "execution_count": 8,
   "id": "bdcaf237-aa12-44a9-bc8f-2e42a08f1b34",
   "metadata": {},
   "outputs": [
    {
     "name": "stdout",
     "output_type": "stream",
     "text": [
      "['Laptop', ['mango', 'apple', 'banana', 'cherry'], ['jeans', 'shirts'], ['Brinjal', 'Potato', 'Radish']]\n"
     ]
    }
   ],
   "source": [
    "fruits_veg[1].insert(0, 'mango')\n",
    "print(fruits_veg)"
   ]
  },
  {
   "cell_type": "code",
   "execution_count": 9,
   "id": "7d40645d-c9e5-47ad-8d23-fb3affdc1e9f",
   "metadata": {},
   "outputs": [
    {
     "name": "stdout",
     "output_type": "stream",
     "text": [
      "['apple', 'banana']\n"
     ]
    }
   ],
   "source": [
    "print(fruits_veg[1][1:3])"
   ]
  },
  {
   "cell_type": "markdown",
   "id": "ccf00dbb",
   "metadata": {},
   "source": [
    "### 3D_List"
   ]
  },
  {
   "cell_type": "code",
   "execution_count": 10,
   "id": "16ca655f-77aa-45cf-85ea-7970434c06b6",
   "metadata": {},
   "outputs": [],
   "source": [
    "fruits_veg_3d = [[['apple', 'banana', 'cherry']],\n",
    "               [['Brinjal', 'Potato', 'Radish']]]"
   ]
  },
  {
   "cell_type": "code",
   "execution_count": 11,
   "id": "bd7ac92a-68f8-4f8d-9df8-35c754c0e89e",
   "metadata": {},
   "outputs": [
    {
     "data": {
      "text/plain": [
       "[['Brinjal', 'Potato', 'Radish']]"
      ]
     },
     "execution_count": 11,
     "metadata": {},
     "output_type": "execute_result"
    }
   ],
   "source": [
    "fruits_veg_3d[1]"
   ]
  },
  {
   "cell_type": "code",
   "execution_count": 12,
   "id": "6ed4c5b1-0e8f-4380-818c-408fb1ffce6c",
   "metadata": {},
   "outputs": [
    {
     "data": {
      "text/plain": [
       "['Brinjal', 'Potato', 'Radish']"
      ]
     },
     "execution_count": 12,
     "metadata": {},
     "output_type": "execute_result"
    }
   ],
   "source": [
    "fruits_veg_3d[1][0]"
   ]
  },
  {
   "cell_type": "code",
   "execution_count": 13,
   "id": "695994b9-8c8a-49e6-8ab7-81917f5441df",
   "metadata": {},
   "outputs": [
    {
     "data": {
      "text/plain": [
       "'Radish'"
      ]
     },
     "execution_count": 13,
     "metadata": {},
     "output_type": "execute_result"
    }
   ],
   "source": [
    "fruits_veg_3d[1][0][2]"
   ]
  }
 ],
 "metadata": {
  "kernelspec": {
   "display_name": "base",
   "language": "python",
   "name": "python3"
  },
  "language_info": {
   "codemirror_mode": {
    "name": "ipython",
    "version": 3
   },
   "file_extension": ".py",
   "mimetype": "text/x-python",
   "name": "python",
   "nbconvert_exporter": "python",
   "pygments_lexer": "ipython3",
   "version": "3.11.5"
  }
 },
 "nbformat": 4,
 "nbformat_minor": 5
}
