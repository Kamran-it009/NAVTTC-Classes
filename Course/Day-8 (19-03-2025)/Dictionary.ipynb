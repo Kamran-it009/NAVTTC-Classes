{
 "cells": [
  {
   "cell_type": "code",
   "execution_count": 2,
   "id": "04d7491b-de2f-43d3-94f5-e88dc2944c44",
   "metadata": {},
   "outputs": [
    {
     "name": "stdout",
     "output_type": "stream",
     "text": [
      "{'A': 'apple', 'B': 'banana', 'C': 'cherry'}\n"
     ]
    }
   ],
   "source": [
    "# Case no: 1\n",
    "fruits_dict = {'A': 'apple', 'B': 'banana', 'C': 'cherry'}\n",
    "print(fruits_dict)"
   ]
  },
  {
   "cell_type": "code",
   "execution_count": 3,
   "id": "ad6175ab-ce1f-4161-bb8a-c0dc619ed4ec",
   "metadata": {},
   "outputs": [
    {
     "data": {
      "text/plain": [
       "'cherry'"
      ]
     },
     "execution_count": 3,
     "metadata": {},
     "output_type": "execute_result"
    }
   ],
   "source": [
    "fruits_dict['C']"
   ]
  },
  {
   "cell_type": "code",
   "execution_count": 4,
   "id": "cec31766-8016-4097-91e3-c438e24d79ee",
   "metadata": {},
   "outputs": [
    {
     "ename": "KeyError",
     "evalue": "0",
     "output_type": "error",
     "traceback": [
      "\u001b[1;31m---------------------------------------------------------------------------\u001b[0m",
      "\u001b[1;31mKeyError\u001b[0m                                  Traceback (most recent call last)",
      "Cell \u001b[1;32mIn[4], line 1\u001b[0m\n\u001b[1;32m----> 1\u001b[0m \u001b[43mfruits_dict\u001b[49m\u001b[43m[\u001b[49m\u001b[38;5;241;43m0\u001b[39;49m\u001b[43m]\u001b[49m\n",
      "\u001b[1;31mKeyError\u001b[0m: 0"
     ]
    }
   ],
   "source": [
    "fruits_dict[0]"
   ]
  },
  {
   "cell_type": "code",
   "execution_count": 5,
   "id": "7350af1b-225e-4e03-aeb8-f0171eeed2b2",
   "metadata": {},
   "outputs": [
    {
     "name": "stdout",
     "output_type": "stream",
     "text": [
      "{1: 'apple', 2: 'banana', 3: 'cherry'}\n"
     ]
    }
   ],
   "source": [
    "# Case no: 2\n",
    "fruits_dict = {1: 'apple', 2: 'banana', 3: 'cherry'}\n",
    "print(fruits_dict)"
   ]
  },
  {
   "cell_type": "code",
   "execution_count": 6,
   "id": "38a06a49-4df7-438d-9b4b-9d7bb1a2405f",
   "metadata": {},
   "outputs": [
    {
     "ename": "KeyError",
     "evalue": "-1",
     "output_type": "error",
     "traceback": [
      "\u001b[1;31m---------------------------------------------------------------------------\u001b[0m",
      "\u001b[1;31mKeyError\u001b[0m                                  Traceback (most recent call last)",
      "Cell \u001b[1;32mIn[6], line 2\u001b[0m\n\u001b[0;32m      1\u001b[0m \u001b[38;5;66;03m# Negative indexing not possible\u001b[39;00m\n\u001b[1;32m----> 2\u001b[0m \u001b[43mfruits_dict\u001b[49m\u001b[43m[\u001b[49m\u001b[38;5;241;43m-\u001b[39;49m\u001b[38;5;241;43m1\u001b[39;49m\u001b[43m]\u001b[49m\n",
      "\u001b[1;31mKeyError\u001b[0m: -1"
     ]
    }
   ],
   "source": [
    "# Negative indexing not possible\n",
    "fruits_dict[-1]"
   ]
  },
  {
   "cell_type": "code",
   "execution_count": 7,
   "id": "39e6ca45-3df0-40e1-81d5-06c79183f64e",
   "metadata": {},
   "outputs": [
    {
     "ename": "TypeError",
     "evalue": "unhashable type: 'slice'",
     "output_type": "error",
     "traceback": [
      "\u001b[1;31m---------------------------------------------------------------------------\u001b[0m",
      "\u001b[1;31mTypeError\u001b[0m                                 Traceback (most recent call last)",
      "Cell \u001b[1;32mIn[7], line 2\u001b[0m\n\u001b[0;32m      1\u001b[0m \u001b[38;5;66;03m# Slicing not possible\u001b[39;00m\n\u001b[1;32m----> 2\u001b[0m \u001b[43mfruits_dict\u001b[49m\u001b[43m[\u001b[49m\u001b[38;5;241;43m1\u001b[39;49m\u001b[43m:\u001b[49m\u001b[43m \u001b[49m\u001b[38;5;241;43m3\u001b[39;49m\u001b[43m]\u001b[49m\n",
      "\u001b[1;31mTypeError\u001b[0m: unhashable type: 'slice'"
     ]
    }
   ],
   "source": [
    "# Slicing not possible\n",
    "fruits_dict[1: 3]"
   ]
  },
  {
   "cell_type": "code",
   "execution_count": null,
   "id": "2599d841-56cf-423a-8f9a-35df0a16ad69",
   "metadata": {},
   "outputs": [
    {
     "name": "stdout",
     "output_type": "stream",
     "text": [
      "l\n"
     ]
    }
   ],
   "source": [
    "print(fruits_dict[1][3])"
   ]
  },
  {
   "cell_type": "code",
   "execution_count": 9,
   "id": "5ecc63f4-7d6b-4b2e-a88c-b38baececa0e",
   "metadata": {},
   "outputs": [
    {
     "name": "stdout",
     "output_type": "stream",
     "text": [
      "{1: 'apple', 2: 'banana', 3: 'cherry', 'A': ['Almod', 'Apple']}\n"
     ]
    }
   ],
   "source": [
    "fruits_dict['A'] = ['Almod', 'Apple']\n",
    "print(fruits_dict)"
   ]
  },
  {
   "cell_type": "code",
   "execution_count": 10,
   "id": "42629824-3334-4fb1-953b-c134da3ecd22",
   "metadata": {},
   "outputs": [
    {
     "data": {
      "text/plain": [
       "'Apple'"
      ]
     },
     "execution_count": 10,
     "metadata": {},
     "output_type": "execute_result"
    }
   ],
   "source": [
    "fruits_dict['A'][1]"
   ]
  },
  {
   "cell_type": "code",
   "execution_count": 11,
   "id": "0ce9bd2e-9d54-40d8-9ae2-91f2713f1271",
   "metadata": {},
   "outputs": [
    {
     "name": "stdout",
     "output_type": "stream",
     "text": [
      "{'Roll no': [101, 102, 103], 'Name': ['Ali', 'Ahmad', 'Amir']}\n"
     ]
    }
   ],
   "source": [
    "# Dictionary Initialization\n",
    "students = {'Roll no': [101, 102, 103], 'Name': ['Ali', 'Ahmad', 'Amir']}\n",
    "print(students)"
   ]
  },
  {
   "cell_type": "code",
   "execution_count": 12,
   "id": "c6670874-e56c-4f7e-821f-b3e2f19b00f0",
   "metadata": {},
   "outputs": [
    {
     "data": {
      "text/plain": [
       "[101, 102, 103]"
      ]
     },
     "execution_count": 12,
     "metadata": {},
     "output_type": "execute_result"
    }
   ],
   "source": [
    "students.get('Roll no')"
   ]
  },
  {
   "cell_type": "code",
   "execution_count": 13,
   "id": "b0edc785-df60-4486-ab62-8108cebc0b58",
   "metadata": {},
   "outputs": [
    {
     "data": {
      "text/plain": [
       "[('Roll no', [101, 102, 103]), ('Name', ['Ali', 'Ahmad', 'Amir'])]"
      ]
     },
     "execution_count": 13,
     "metadata": {},
     "output_type": "execute_result"
    }
   ],
   "source": [
    "# Accessing Items (keys and Values)\n",
    "list(students.items())"
   ]
  },
  {
   "cell_type": "code",
   "execution_count": 14,
   "id": "f0b2a4e8-9b3c-46c3-bc5a-0a4687c79c62",
   "metadata": {},
   "outputs": [
    {
     "data": {
      "text/plain": [
       "['Roll no', 'Name']"
      ]
     },
     "execution_count": 14,
     "metadata": {},
     "output_type": "execute_result"
    }
   ],
   "source": [
    "# Accessing keys\n",
    "list(students.keys())"
   ]
  },
  {
   "cell_type": "code",
   "execution_count": 16,
   "id": "ef26fc8b-e0ad-4e11-b66a-93f80d6dbc12",
   "metadata": {},
   "outputs": [
    {
     "data": {
      "text/plain": [
       "[[101, 102, 103], ['Ali', 'Ahmad', 'Amir']]"
      ]
     },
     "execution_count": 16,
     "metadata": {},
     "output_type": "execute_result"
    }
   ],
   "source": [
    "# Accessing values\n",
    "list(students.values())"
   ]
  },
  {
   "cell_type": "code",
   "execution_count": 22,
   "id": "b3d591d1-92f1-42b8-a24b-e355efba6815",
   "metadata": {},
   "outputs": [
    {
     "data": {
      "text/plain": [
       "['Ali', 'Ahmad', 'Amir']"
      ]
     },
     "execution_count": 22,
     "metadata": {},
     "output_type": "execute_result"
    }
   ],
   "source": [
    "# Key based POP\n",
    "students.pop('Name')"
   ]
  },
  {
   "cell_type": "code",
   "execution_count": 17,
   "id": "904ee685-3f9b-4d28-a364-ca6471fb8196",
   "metadata": {},
   "outputs": [
    {
     "name": "stdout",
     "output_type": "stream",
     "text": [
      "Amir\n",
      "{'Roll no': [101, 102, 103], 'Name': ['Ali', 'Ahmad']}\n"
     ]
    }
   ],
   "source": [
    "k = students.get('Name').pop()\n",
    "print(k)\n",
    "print(students)"
   ]
  },
  {
   "cell_type": "code",
   "execution_count": null,
   "id": "ff7d4f79-5e71-4bef-84bc-6b7db8c66c67",
   "metadata": {},
   "outputs": [
    {
     "name": "stdout",
     "output_type": "stream",
     "text": [
      "<class 'int'>\n"
     ]
    }
   ],
   "source": [
    "# Everything is Object in Python\n",
    "x  = 10\n",
    "print(type(x))"
   ]
  },
  {
   "cell_type": "code",
   "execution_count": 32,
   "id": "debde631-2187-45f9-9dc1-1aefe226081b",
   "metadata": {},
   "outputs": [
    {
     "data": {
      "text/plain": [
       "('Name', ['Ali', 'Ahmad'])"
      ]
     },
     "execution_count": 32,
     "metadata": {},
     "output_type": "execute_result"
    }
   ],
   "source": [
    "# Arbitrary POP\n",
    "students.popitem()"
   ]
  }
 ],
 "metadata": {
  "kernelspec": {
   "display_name": "base",
   "language": "python",
   "name": "python3"
  },
  "language_info": {
   "codemirror_mode": {
    "name": "ipython",
    "version": 3
   },
   "file_extension": ".py",
   "mimetype": "text/x-python",
   "name": "python",
   "nbconvert_exporter": "python",
   "pygments_lexer": "ipython3",
   "version": "3.11.5"
  }
 },
 "nbformat": 4,
 "nbformat_minor": 5
}
