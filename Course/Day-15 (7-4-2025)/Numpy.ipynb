{
 "cells": [
  {
   "cell_type": "code",
   "execution_count": 1,
   "id": "7e33ff0a-6c24-4778-9427-fcdffde8fe18",
   "metadata": {},
   "outputs": [
    {
     "name": "stdout",
     "output_type": "stream",
     "text": [
      "Requirement already satisfied: numpy in c:\\users\\kamra\\anaconda3\\envs\\numpy\\lib\\site-packages (2.2.4)\n"
     ]
    }
   ],
   "source": [
    "!pip install numpy"
   ]
  },
  {
   "cell_type": "code",
   "execution_count": 2,
   "id": "663b2ab0-d530-46ba-b852-7c2957bb4885",
   "metadata": {},
   "outputs": [
    {
     "name": "stdout",
     "output_type": "stream",
     "text": [
      "2.2.4\n"
     ]
    }
   ],
   "source": [
    "# Checking Numpy version\n",
    "import numpy as np\n",
    "print(np.__version__)"
   ]
  },
  {
   "cell_type": "code",
   "execution_count": 3,
   "id": "3400d568-5762-40fa-a15a-b46abd954081",
   "metadata": {},
   "outputs": [
    {
     "name": "stdout",
     "output_type": "stream",
     "text": [
      "List: ['apple', 'mango', 'banana']\n",
      "\n",
      "Array: ['apple' 'mango' 'banana']\n"
     ]
    }
   ],
   "source": [
    "fruits = ['apple', 'mango', 'banana']\n",
    "print('List:',fruits)\n",
    "arr = np.array(fruits)\n",
    "print('\\nArray:', arr)"
   ]
  },
  {
   "cell_type": "code",
   "execution_count": 4,
   "id": "7cc9ece6-740a-47fd-af77-0472d31168a8",
   "metadata": {},
   "outputs": [
    {
     "name": "stdout",
     "output_type": "stream",
     "text": [
      "['apple' 'mango' 'banana']\n"
     ]
    }
   ],
   "source": [
    "fruits = ('apple', 'mango', 'banana')\n",
    "arr2  = np.array(fruits)\n",
    "print(arr2)"
   ]
  },
  {
   "cell_type": "code",
   "execution_count": 5,
   "id": "322605fb-d349-4207-a8b9-582addf49cec",
   "metadata": {},
   "outputs": [
    {
     "name": "stdout",
     "output_type": "stream",
     "text": [
      "[10 20 30 40]\n"
     ]
    }
   ],
   "source": [
    "arr3 = np.array([10, 20, 30, 40])\n",
    "print(arr3)"
   ]
  },
  {
   "cell_type": "code",
   "execution_count": 6,
   "id": "5b94cdac-7d04-480b-bcbc-580c1795acb4",
   "metadata": {},
   "outputs": [
    {
     "name": "stdout",
     "output_type": "stream",
     "text": [
      "Type of Array: <class 'numpy.ndarray'>\n"
     ]
    }
   ],
   "source": [
    "print('Type of Array:', type(arr))"
   ]
  },
  {
   "cell_type": "code",
   "execution_count": 7,
   "id": "0b8aad49-3ffa-434d-b0c5-690d6c1e4e64",
   "metadata": {},
   "outputs": [
    {
     "name": "stdout",
     "output_type": "stream",
     "text": [
      "\n",
      "Random array:\n",
      " [[0.76864426 0.43455723]\n",
      " [0.90665047 0.24185128]]\n"
     ]
    }
   ],
   "source": [
    "arr = np.random.rand(2, 2)\n",
    "print('\\nRandom array:\\n', arr)"
   ]
  },
  {
   "cell_type": "code",
   "execution_count": 13,
   "id": "2c37a74a-ee74-42b1-85a8-19c84fd2f833",
   "metadata": {},
   "outputs": [
    {
     "name": "stdout",
     "output_type": "stream",
     "text": [
      "\n",
      "Random integers:\n",
      " [[13  9  7]\n",
      " [ 8 11  6]]\n"
     ]
    }
   ],
   "source": [
    "arr = np.random.randint(5, 15, size=(2, 3))  # From 5 to 14\n",
    "print('\\nRandom integers:\\n', arr)"
   ]
  },
  {
   "cell_type": "code",
   "execution_count": null,
   "id": "58f889d4-62c1-4d35-89b5-9748d73f8c34",
   "metadata": {},
   "outputs": [],
   "source": []
  }
 ],
 "metadata": {
  "kernelspec": {
   "display_name": "Python 3 (ipykernel)",
   "language": "python",
   "name": "python3"
  },
  "language_info": {
   "codemirror_mode": {
    "name": "ipython",
    "version": 3
   },
   "file_extension": ".py",
   "mimetype": "text/x-python",
   "name": "python",
   "nbconvert_exporter": "python",
   "pygments_lexer": "ipython3",
   "version": "3.12.0"
  }
 },
 "nbformat": 4,
 "nbformat_minor": 5
}
