{
 "cells": [
  {
   "cell_type": "markdown",
   "id": "9df42623",
   "metadata": {},
   "source": [
    "### Synchronous Programming"
   ]
  },
  {
   "cell_type": "code",
   "execution_count": 8,
   "id": "b32ccdd3-1aea-4834-9a4c-34d84db04c61",
   "metadata": {},
   "outputs": [
    {
     "name": "stdout",
     "output_type": "stream",
     "text": [
      "Boiling water...\n",
      "Water is ready!\n",
      "Toasting bread...\n",
      "Bread is toasted!\n",
      "Breakfast is ready!\n",
      "5.002096652984619\n"
     ]
    }
   ],
   "source": [
    "import time\n",
    "\n",
    "def boil_water():\n",
    "    print(\"Boiling water...\")\n",
    "    time.sleep(3)\n",
    "    print(\"Water is ready!\")\n",
    "\n",
    "def toast_bread():\n",
    "    print(\"Toasting bread...\")\n",
    "    time.sleep(2)\n",
    "    print(\"Bread is toasted!\")\n",
    "\n",
    "def make_breakfast():\n",
    "    start_time = time.time()\n",
    "    boil_water()\n",
    "    toast_bread()\n",
    "    print(\"Breakfast is ready!\")\n",
    "    end_time = time.time()\n",
    "    print(end_time - start_time)\n",
    "\n",
    "make_breakfast()\n"
   ]
  },
  {
   "cell_type": "markdown",
   "id": "31c33840",
   "metadata": {},
   "source": [
    "### Asynchronous Programming"
   ]
  },
  {
   "cell_type": "code",
   "execution_count": 2,
   "id": "c54f127f-2167-4594-946f-1edcb13fdf19",
   "metadata": {},
   "outputs": [
    {
     "name": "stdout",
     "output_type": "stream",
     "text": [
      "Boiling water... (3 seconds)\n",
      "Toasting bread...(2 seconds)\n",
      "Bread is toasted!\n",
      "Water is ready!\n",
      "Breakfast is ready!\n",
      "Total time taken: 3.01 seconds\n"
     ]
    }
   ],
   "source": [
    "import asyncio\n",
    "import time\n",
    "\n",
    "async def boil_water():\n",
    "    print(\"Boiling water... (3 seconds)\")\n",
    "    await asyncio.sleep(3)\n",
    "    print(\"Water is ready!\")\n",
    "\n",
    "async def toast_bread():\n",
    "    print(\"Toasting bread...(2 seconds)\")\n",
    "    await asyncio.sleep(2)\n",
    "    print(\"Bread is toasted!\")\n",
    "\n",
    "async def make_breakfast():\n",
    "    # Run both tasks at the same time\n",
    "    await asyncio.gather(\n",
    "        boil_water(),\n",
    "        toast_bread()\n",
    "    )\n",
    "    print(\"Breakfast is ready!\")\n",
    "\n",
    "start_time = time.time()  # Start the timer\n",
    "await make_breakfast()\n",
    "end_time = time.time()  # End the timer\n",
    "print(f\"Total time taken: {end_time - start_time:.2f} seconds\")"
   ]
  }
 ],
 "metadata": {
  "kernelspec": {
   "display_name": "base",
   "language": "python",
   "name": "python3"
  },
  "language_info": {
   "codemirror_mode": {
    "name": "ipython",
    "version": 3
   },
   "file_extension": ".py",
   "mimetype": "text/x-python",
   "name": "python",
   "nbconvert_exporter": "python",
   "pygments_lexer": "ipython3",
   "version": "3.12.4"
  }
 },
 "nbformat": 4,
 "nbformat_minor": 5
}
