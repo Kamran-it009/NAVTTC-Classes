{
 "cells": [
  {
   "cell_type": "markdown",
   "id": "baf5343f-ad5e-40f7-a060-cb9cf18d9ad1",
   "metadata": {},
   "source": [
    "# Object-Oriented-Programming"
   ]
  },
  {
   "cell_type": "markdown",
   "id": "451cf0a8",
   "metadata": {},
   "source": [
    "### Class"
   ]
  },
  {
   "cell_type": "code",
   "execution_count": 11,
   "id": "0166b55c-0e98-4e5b-9663-af860aca23e6",
   "metadata": {},
   "outputs": [],
   "source": [
    "class Person:\n",
    "    name = 'Kamran'\n",
    "    age = 29\n",
    "    height = 5.4\n",
    "    qualification = 'MSCS'\n",
    "    roll_no = 'MS101'\n",
    "\n",
    "    def walk(self):\n",
    "        print('Person is walking')\n",
    "        \n",
    "    def talk(self):\n",
    "        print('Person is walking')\n",
    "\n",
    "    def eat(self):\n",
    "        print('Person is eating')"
   ]
  },
  {
   "cell_type": "markdown",
   "id": "c32ae10d",
   "metadata": {},
   "source": [
    "### Object Creation"
   ]
  },
  {
   "cell_type": "code",
   "execution_count": 12,
   "id": "e27f3a7e-77d0-4e9c-b96b-01e7f77d0092",
   "metadata": {},
   "outputs": [],
   "source": [
    "p1 = Person() # p1 is an instance of class Person. "
   ]
  },
  {
   "cell_type": "code",
   "execution_count": 13,
   "id": "2380cec7-d771-44ad-acb3-87f55ef46974",
   "metadata": {},
   "outputs": [
    {
     "data": {
      "text/plain": [
       "'Kamran'"
      ]
     },
     "execution_count": 13,
     "metadata": {},
     "output_type": "execute_result"
    }
   ],
   "source": [
    "p1.name"
   ]
  },
  {
   "cell_type": "code",
   "execution_count": 14,
   "id": "92de537a-5d79-4044-b396-9e52c1f3f20d",
   "metadata": {},
   "outputs": [
    {
     "data": {
      "text/plain": [
       "29"
      ]
     },
     "execution_count": 14,
     "metadata": {},
     "output_type": "execute_result"
    }
   ],
   "source": [
    "p1.age"
   ]
  },
  {
   "cell_type": "code",
   "execution_count": null,
   "id": "906b34f9-88f9-47e2-b6f5-904d758f8e95",
   "metadata": {},
   "outputs": [
    {
     "name": "stdout",
     "output_type": "stream",
     "text": [
      "Person is walking\n",
      "Person is walking\n"
     ]
    }
   ],
   "source": [
    "p1.talk()\n",
    "p1.walk()\n"
   ]
  },
  {
   "cell_type": "markdown",
   "id": "8fa8b552",
   "metadata": {},
   "source": [
    "### Another example of class and object"
   ]
  },
  {
   "cell_type": "code",
   "execution_count": 17,
   "id": "c05e2d53-4e7a-41a0-b5d6-f4a4e4fd7b67",
   "metadata": {},
   "outputs": [],
   "source": [
    "class Person1:\n",
    "    name = 'Ali'\n",
    "    age = 30\n",
    "    height = 5.5\n",
    "    qualification = 'M-phill'\n",
    "    roll_no = 'MS102'\n",
    "\n",
    "    def walk(self):\n",
    "        print('Person is walking')\n",
    "        \n",
    "    def talk(self):\n",
    "        print('Person is walking')\n",
    "\n",
    "    def eat(self):\n",
    "        print('Person is eating')"
   ]
  },
  {
   "cell_type": "code",
   "execution_count": 19,
   "id": "47c67947-26e2-4f45-bae7-9f306b6dc1e3",
   "metadata": {},
   "outputs": [
    {
     "name": "stdout",
     "output_type": "stream",
     "text": [
      "Ali\n",
      "Person is walking\n"
     ]
    }
   ],
   "source": [
    "p2 = Person1()\n",
    "print(p2.name)\n",
    "p2.talk()"
   ]
  },
  {
   "cell_type": "code",
   "execution_count": 21,
   "id": "2ff5006f-2f6c-4881-8508-2d28df99f139",
   "metadata": {},
   "outputs": [
    {
     "data": {
      "text/plain": [
       "'Ali'"
      ]
     },
     "execution_count": 21,
     "metadata": {},
     "output_type": "execute_result"
    }
   ],
   "source": [
    "Person.name # you can access class variable using class name\n",
    "Person1.name # you can access class variable using class name"
   ]
  },
  {
   "cell_type": "code",
   "execution_count": 25,
   "id": "07e5436f-779d-4f08-a8e2-8acd2109db63",
   "metadata": {},
   "outputs": [],
   "source": [
    "class Animal:\n",
    "    name = 'Dog'\n",
    "    age = 3\n",
    "\n",
    "    def walk():\n",
    "        print('Animal is walking')\n",
    "\n",
    "    def eat():\n",
    "        print('Animal is eating')"
   ]
  },
  {
   "cell_type": "code",
   "execution_count": 26,
   "id": "c5a0981c",
   "metadata": {},
   "outputs": [
    {
     "name": "stdout",
     "output_type": "stream",
     "text": [
      "Animal is walking\n",
      "Animal is eating\n"
     ]
    }
   ],
   "source": [
    "Animal.walk() # you can access class method using class name\n",
    "Animal.eat() # you can access class method using class name"
   ]
  }
 ],
 "metadata": {
  "kernelspec": {
   "display_name": "base",
   "language": "python",
   "name": "python3"
  },
  "language_info": {
   "codemirror_mode": {
    "name": "ipython",
    "version": 3
   },
   "file_extension": ".py",
   "mimetype": "text/x-python",
   "name": "python",
   "nbconvert_exporter": "python",
   "pygments_lexer": "ipython3",
   "version": "3.12.4"
  }
 },
 "nbformat": 4,
 "nbformat_minor": 5
}
