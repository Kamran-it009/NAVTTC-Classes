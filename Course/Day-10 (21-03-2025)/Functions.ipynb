{
 "cells": [
  {
   "cell_type": "code",
   "execution_count": null,
   "id": "7e183db6-9438-4643-b361-afaa46d57b8b",
   "metadata": {},
   "outputs": [],
   "source": [
    "# Defining a function\n",
    "def corvit():\n",
    "    print('Hello Corvit..')\n",
    "    print('We are learning AI/ML')\n",
    "    print('Our goal is to compete International Market.')"
   ]
  },
  {
   "cell_type": "code",
   "execution_count": null,
   "id": "eea8a8ac-84a3-491b-97fa-0c507842c3c3",
   "metadata": {},
   "outputs": [
    {
     "name": "stdout",
     "output_type": "stream",
     "text": [
      "Hello Corvit..\n",
      "We are learning AI/ML\n",
      "Our goal is to compete International Market.\n"
     ]
    }
   ],
   "source": [
    "corvit() # Calling a function"
   ]
  },
  {
   "cell_type": "code",
   "execution_count": null,
   "id": "5a508c11-88a1-475f-a8ab-0b91442647f1",
   "metadata": {},
   "outputs": [
    {
     "name": "stdout",
     "output_type": "stream",
     "text": [
      "Hello Corvit..\n",
      "We are learning AI/ML\n",
      "Our goal is to compete International Market.\n"
     ]
    }
   ],
   "source": [
    "corvit() # Calling a function"
   ]
  },
  {
   "cell_type": "code",
   "execution_count": null,
   "id": "0b829a11-6fec-4513-9395-c3840a8b9278",
   "metadata": {},
   "outputs": [],
   "source": [
    "# Case no: 1\n",
    "def greeting(name): # name is a parameter\n",
    "    print(f'Hello {name}! How are you..')"
   ]
  },
  {
   "cell_type": "code",
   "execution_count": 2,
   "id": "3c21cd71-0f05-4d25-8439-00ff42d96117",
   "metadata": {},
   "outputs": [
    {
     "name": "stdout",
     "output_type": "stream",
     "text": [
      "Hello Hassan! How are you..\n"
     ]
    }
   ],
   "source": [
    "greeting('Hassan') # Hassan is an argument"
   ]
  },
  {
   "cell_type": "code",
   "execution_count": 3,
   "id": "d6f6d07e-0170-4a2a-938e-69910fd71411",
   "metadata": {},
   "outputs": [],
   "source": [
    "# Case no: 2\n",
    "def sum1(a, b): # a and b are parameters.\n",
    "    c = a + b\n",
    "    return c # returned value"
   ]
  },
  {
   "cell_type": "code",
   "execution_count": 4,
   "id": "18c31a06-a8d7-468c-89b6-a10b8c36ea83",
   "metadata": {},
   "outputs": [
    {
     "name": "stdout",
     "output_type": "stream",
     "text": [
      "51\n"
     ]
    }
   ],
   "source": [
    "k = sum1(45, 6) # Auguments\n",
    "print(k)"
   ]
  },
  {
   "cell_type": "code",
   "execution_count": 8,
   "id": "c14dd101-b7a0-4dda-a42e-90035a570ec5",
   "metadata": {},
   "outputs": [],
   "source": [
    "# Case no: 3\n",
    "def sum(a = 10, b = 15): # Default parameters\n",
    "    c = a + b\n",
    "    return c # returned value"
   ]
  },
  {
   "cell_type": "code",
   "execution_count": null,
   "id": "e300c578-f4ab-48fd-8735-d13057c4f268",
   "metadata": {},
   "outputs": [
    {
     "name": "stdout",
     "output_type": "stream",
     "text": [
      "25\n",
      "9\n"
     ]
    }
   ],
   "source": [
    "print(sum()) # Calling a function with default parameters\n",
    "print(sum(5, 4))"
   ]
  },
  {
   "cell_type": "code",
   "execution_count": 10,
   "id": "c1911456-50d4-4601-bc88-82b3d251bb9c",
   "metadata": {},
   "outputs": [],
   "source": [
    "# Case no: 4\n",
    "def summation(a, b):\n",
    "    print('a:', a)\n",
    "    print('b:', b)\n",
    "    c = a + b\n",
    "    print('Res:',c)"
   ]
  },
  {
   "cell_type": "code",
   "execution_count": 11,
   "id": "7b0608a8-619e-4d39-a31d-7cb7d0a6346a",
   "metadata": {},
   "outputs": [
    {
     "name": "stdout",
     "output_type": "stream",
     "text": [
      "a: 3\n",
      "b: 5\n",
      "Res: 8\n"
     ]
    }
   ],
   "source": [
    "summation(3, 5)"
   ]
  },
  {
   "cell_type": "code",
   "execution_count": 12,
   "id": "34b48e74-7972-41d0-b8e6-be702d580cbf",
   "metadata": {},
   "outputs": [
    {
     "name": "stdout",
     "output_type": "stream",
     "text": [
      "a: 3\n",
      "b: 5\n",
      "Res: 8\n"
     ]
    }
   ],
   "source": [
    "summation(b = 5, a = 3) # keyword auguments"
   ]
  },
  {
   "cell_type": "code",
   "execution_count": 15,
   "id": "6eb74ca4-1f37-4372-81d8-93bbb6bd4bf7",
   "metadata": {},
   "outputs": [],
   "source": [
    "add = lambda a, b: a + b # lambda functions"
   ]
  },
  {
   "cell_type": "code",
   "execution_count": 17,
   "id": "620167ff-f00d-4a2e-a8b3-ecd6ef0884de",
   "metadata": {},
   "outputs": [
    {
     "data": {
      "text/plain": [
       "10"
      ]
     },
     "execution_count": 17,
     "metadata": {},
     "output_type": "execute_result"
    }
   ],
   "source": [
    "add(6, 4)"
   ]
  },
  {
   "cell_type": "code",
   "execution_count": 18,
   "id": "e368c55e-8dae-4fd9-ae86-8587be11a867",
   "metadata": {},
   "outputs": [],
   "source": [
    "add = lambda a = 10, b = 15: a + b # lambda functions with default parameters"
   ]
  },
  {
   "cell_type": "code",
   "execution_count": null,
   "id": "152c8c2e-526e-4cd3-bb99-f7a37ec21aae",
   "metadata": {},
   "outputs": [],
   "source": [
    "# Case no: 5\n",
    "def add(*x): # Function with variable number of arguments\n",
    "    sum = 0\n",
    "    for i in x:\n",
    "        sum = sum + i\n",
    "    \n",
    "    return sum"
   ]
  },
  {
   "cell_type": "code",
   "execution_count": null,
   "id": "ce0cb1b5-a7a6-4dc5-abef-3e2306f8b1e5",
   "metadata": {},
   "outputs": [
    {
     "data": {
      "text/plain": [
       "414"
      ]
     },
     "execution_count": 20,
     "metadata": {},
     "output_type": "execute_result"
    }
   ],
   "source": [
    "add(4, 5, 6, 10, 89, 45, 67, 8, 90, 34, 56) # Calling a function with variable number of arguments"
   ]
  },
  {
   "cell_type": "code",
   "execution_count": 21,
   "id": "d8afd8a8-77bc-4bbd-abfd-c46f66cdad74",
   "metadata": {},
   "outputs": [],
   "source": [
    "# 7. Recursive functions\n",
    "def name(a):\n",
    "    print('----------------')\n",
    "    print(a)\n",
    "    name(a)\n",
    "\n",
    "# name('Kamran')"
   ]
  },
  {
   "cell_type": "code",
   "execution_count": null,
   "id": "e8c56f35-62d7-4792-9c38-439ec451f1e8",
   "metadata": {},
   "outputs": [],
   "source": [
    "# Function with variable number of keyword arguments\n",
    "def add(**x):\n",
    "    print(x)"
   ]
  },
  {
   "cell_type": "code",
   "execution_count": null,
   "id": "29716fc0-85d8-4321-8599-4132ae02018f",
   "metadata": {},
   "outputs": [
    {
     "name": "stdout",
     "output_type": "stream",
     "text": [
      "{'a': 10, 'b': 23, 'c': 4, 'd': 5}\n"
     ]
    }
   ],
   "source": [
    "add(a = 10, b = 23, c = 4, d = 5) # Calling a function with variable number of keyword arguments"
   ]
  }
 ],
 "metadata": {
  "kernelspec": {
   "display_name": "base",
   "language": "python",
   "name": "python3"
  },
  "language_info": {
   "codemirror_mode": {
    "name": "ipython",
    "version": 3
   },
   "file_extension": ".py",
   "mimetype": "text/x-python",
   "name": "python",
   "nbconvert_exporter": "python",
   "pygments_lexer": "ipython3",
   "version": "3.11.5"
  }
 },
 "nbformat": 4,
 "nbformat_minor": 5
}
