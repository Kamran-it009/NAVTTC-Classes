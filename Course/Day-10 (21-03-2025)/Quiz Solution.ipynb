{
 "cells": [
  {
   "cell_type": "markdown",
   "id": "fd1b9c26-2b9a-4a06-8a57-ddc770e2153d",
   "metadata": {},
   "source": [
    "### Q1"
   ]
  },
  {
   "cell_type": "code",
   "execution_count": 1,
   "id": "a70bdcf8-0163-4c95-b276-145ae42a4d1c",
   "metadata": {},
   "outputs": [
    {
     "name": "stdout",
     "output_type": "stream",
     "text": [
      "Enter no: 5\n"
     ]
    },
    {
     "name": "stdout",
     "output_type": "stream",
     "text": [
      "Odd\n"
     ]
    }
   ],
   "source": [
    "x = int(input('Enter no:'))\n",
    "if x % 2 == 0:\n",
    "    print('Even')\n",
    "else:\n",
    "    print('Odd')"
   ]
  },
  {
   "cell_type": "markdown",
   "id": "e85d8b7b-89a2-46f4-bffd-d9a04b721941",
   "metadata": {},
   "source": [
    "### Q2"
   ]
  },
  {
   "cell_type": "code",
   "execution_count": 2,
   "id": "fcbda980-595f-45ea-a1f0-8d39c68c9f4b",
   "metadata": {},
   "outputs": [
    {
     "name": "stdout",
     "output_type": "stream",
     "text": [
      "Enter temperature in celsius: 45\n"
     ]
    },
    {
     "name": "stdout",
     "output_type": "stream",
     "text": [
      "The temperature in Farenheit: 113.0\n"
     ]
    }
   ],
   "source": [
    "temp = int(input('Enter temperature in celsius:'))\n",
    "f = 9/5 * temp + 32\n",
    "print('The temperature in Farenheit:', f)"
   ]
  },
  {
   "cell_type": "markdown",
   "id": "827ae353-472b-482c-9acd-9287af350f9f",
   "metadata": {},
   "source": [
    "### Q3"
   ]
  },
  {
   "cell_type": "code",
   "execution_count": 3,
   "id": "01483713-623d-4856-a3ee-61d05a583e78",
   "metadata": {},
   "outputs": [
    {
     "name": "stdout",
     "output_type": "stream",
     "text": [
      "Enter 1st no: 23\n",
      "Enter 2nd no: 10\n",
      "Enter operator (+, -, *, /): -\n"
     ]
    },
    {
     "name": "stdout",
     "output_type": "stream",
     "text": [
      "13\n"
     ]
    }
   ],
   "source": [
    "x = int(input('Enter 1st no:'))\n",
    "y = int(input('Enter 2nd no:'))\n",
    "op = input('Enter operator (+, -, *, /):')\n",
    "\n",
    "if op == '+':\n",
    "    print(x + y)\n",
    "elif op == '-':\n",
    "    print(x - y)\n",
    "elif op == '*':\n",
    "    print(x * y)\n",
    "elif op == '/':\n",
    "    print(x / y)\n",
    "else:\n",
    "    print('Invalid operator')"
   ]
  },
  {
   "cell_type": "code",
   "execution_count": 5,
   "id": "ac78b304-4a8b-4c57-a56d-946912d15d71",
   "metadata": {},
   "outputs": [
    {
     "name": "stdout",
     "output_type": "stream",
     "text": [
      "Enter 1st no: 23\n",
      "Enter 2nd no: 12\n",
      "Enter 3rd no: 45\n"
     ]
    },
    {
     "name": "stdout",
     "output_type": "stream",
     "text": [
      "Largest: 45\n"
     ]
    }
   ],
   "source": [
    "x = int(input('Enter 1st no:'))\n",
    "y = int(input('Enter 2nd no:'))\n",
    "z = int(input('Enter 3rd no:'))\n",
    "\n",
    "if x > y and x > z:\n",
    "    print('Largest:', x)\n",
    "elif y > x and y > z:\n",
    "    print('Largest:', y)\n",
    "else:\n",
    "    print('Largest:', z)"
   ]
  },
  {
   "cell_type": "markdown",
   "id": "c04c8c07-d9f7-4346-a7d2-8424ac7a3d6d",
   "metadata": {},
   "source": [
    "### Q4"
   ]
  },
  {
   "cell_type": "code",
   "execution_count": 1,
   "id": "36bd5306-9b79-4624-aa43-d2aed07afe69",
   "metadata": {},
   "outputs": [
    {
     "data": {
      "text/plain": [
       "120"
      ]
     },
     "execution_count": 1,
     "metadata": {},
     "output_type": "execute_result"
    }
   ],
   "source": [
    "def fact(n):\n",
    "    if n == 0 or n == 1:\n",
    "        return 1\n",
    "    else:\n",
    "       return n * fact(n-1)\n",
    "    \n",
    "x = int(input('Enter no:'))\n",
    "fact(x)\n"
   ]
  },
  {
   "cell_type": "code",
   "execution_count": null,
   "id": "4f495ee7-7c9c-4acc-a90c-522397e53e47",
   "metadata": {},
   "outputs": [
    {
     "name": "stdout",
     "output_type": "stream",
     "text": [
      "Enter no: 3\n"
     ]
    },
    {
     "data": {
      "text/plain": [
       "6"
      ]
     },
     "execution_count": 10,
     "metadata": {},
     "output_type": "execute_result"
    }
   ],
   "source": []
  }
 ],
 "metadata": {
  "kernelspec": {
   "display_name": "base",
   "language": "python",
   "name": "python3"
  },
  "language_info": {
   "codemirror_mode": {
    "name": "ipython",
    "version": 3
   },
   "file_extension": ".py",
   "mimetype": "text/x-python",
   "name": "python",
   "nbconvert_exporter": "python",
   "pygments_lexer": "ipython3",
   "version": "3.11.5"
  }
 },
 "nbformat": 4,
 "nbformat_minor": 5
}
