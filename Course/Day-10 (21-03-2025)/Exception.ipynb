{
 "cells": [
  {
   "cell_type": "code",
   "execution_count": null,
   "id": "343e0023-059b-4ff3-9141-bb24191d9f99",
   "metadata": {},
   "outputs": [
    {
     "name": "stdout",
     "output_type": "stream",
     "text": [
      "Error is coming..\n",
      "Kamran\n",
      "Kamran\n",
      "Kamran\n"
     ]
    }
   ],
   "source": [
    "# Error Case\n",
    "try:\n",
    "    result = 12/0\n",
    "    print(result)\n",
    "except:\n",
    "    print('Error is coming..')\n",
    "print('Kamran')\n",
    "print('Kamran')\n",
    "print('Kamran')"
   ]
  },
  {
   "cell_type": "code",
   "execution_count": null,
   "id": "6c8276f8-c7e6-4dda-b092-acef0d76fbef",
   "metadata": {},
   "outputs": [
    {
     "name": "stdout",
     "output_type": "stream",
     "text": [
      "6.0\n",
      "Kamran\n",
      "Kamran\n",
      "Kamran\n"
     ]
    }
   ],
   "source": [
    "# Normal Case\n",
    "try:\n",
    "    result = 12/2\n",
    "    print(result)\n",
    "except:\n",
    "    print('Error is coming..')\n",
    "print('Kamran')\n",
    "print('Kamran')\n",
    "print('Kamran')"
   ]
  },
  {
   "cell_type": "code",
   "execution_count": null,
   "id": "7e959fd9",
   "metadata": {},
   "outputs": [],
   "source": []
  }
 ],
 "metadata": {
  "kernelspec": {
   "display_name": "base",
   "language": "python",
   "name": "python3"
  },
  "language_info": {
   "codemirror_mode": {
    "name": "ipython",
    "version": 3
   },
   "file_extension": ".py",
   "mimetype": "text/x-python",
   "name": "python",
   "nbconvert_exporter": "python",
   "pygments_lexer": "ipython3",
   "version": "3.11.5"
  }
 },
 "nbformat": 4,
 "nbformat_minor": 5
}
