{
 "cells": [
  {
   "cell_type": "code",
   "execution_count": 43,
   "id": "153bb0e6-91d6-4b5c-8642-78e1dfad094c",
   "metadata": {},
   "outputs": [
    {
     "name": "stdout",
     "output_type": "stream",
     "text": [
      "['apple', 'banana', 'cherry', 'mango']\n"
     ]
    }
   ],
   "source": [
    "fruits = ['apple', 'banana', 'cherry', 'mango']\n",
    "print(fruits)"
   ]
  },
  {
   "cell_type": "code",
   "execution_count": 2,
   "id": "5dc19830-e53e-4d7f-9e96-de1b7c3e8bdd",
   "metadata": {},
   "outputs": [
    {
     "data": {
      "text/plain": [
       "list"
      ]
     },
     "execution_count": 2,
     "metadata": {},
     "output_type": "execute_result"
    }
   ],
   "source": [
    "type(fruits)"
   ]
  },
  {
   "cell_type": "code",
   "execution_count": 3,
   "id": "6008c926-5e88-4c9e-b998-4e133e28b7b9",
   "metadata": {},
   "outputs": [],
   "source": [
    "ages = [23, 34, 45, 19]"
   ]
  },
  {
   "cell_type": "code",
   "execution_count": 5,
   "id": "7eaa108e-2689-4b09-bf40-b2c63ea752fa",
   "metadata": {},
   "outputs": [],
   "source": [
    "mixed = [23, 'apple', True]"
   ]
  },
  {
   "cell_type": "code",
   "execution_count": 6,
   "id": "22539e4c-292b-41d5-82a3-b4636abc34ae",
   "metadata": {},
   "outputs": [
    {
     "data": {
      "text/plain": [
       "'mango'"
      ]
     },
     "execution_count": 6,
     "metadata": {},
     "output_type": "execute_result"
    }
   ],
   "source": [
    "fruits[3]"
   ]
  },
  {
   "cell_type": "code",
   "execution_count": 7,
   "id": "c2b356e2-ea9b-4de8-b257-4c7e11d9d291",
   "metadata": {},
   "outputs": [
    {
     "data": {
      "text/plain": [
       "'cherry'"
      ]
     },
     "execution_count": 7,
     "metadata": {},
     "output_type": "execute_result"
    }
   ],
   "source": [
    "fruits[-2]"
   ]
  },
  {
   "cell_type": "code",
   "execution_count": 9,
   "id": "a50ee46a-1cf0-4c6b-9093-903e5fd6a1c6",
   "metadata": {},
   "outputs": [
    {
     "data": {
      "text/plain": [
       "'r'"
      ]
     },
     "execution_count": 9,
     "metadata": {},
     "output_type": "execute_result"
    }
   ],
   "source": [
    "fruits[-2][4]"
   ]
  },
  {
   "cell_type": "code",
   "execution_count": 10,
   "id": "e0f69f32-03b7-4175-a427-ae0e20c26fc8",
   "metadata": {},
   "outputs": [
    {
     "data": {
      "text/plain": [
       "['banana', 'cherry']"
      ]
     },
     "execution_count": 10,
     "metadata": {},
     "output_type": "execute_result"
    }
   ],
   "source": [
    "fruits[1:3]"
   ]
  },
  {
   "cell_type": "code",
   "execution_count": 38,
   "id": "8af0bb58-2b63-4f67-91a2-8e660e885571",
   "metadata": {},
   "outputs": [
    {
     "name": "stdout",
     "output_type": "stream",
     "text": [
      "['apple', 'banana', 'cherry', 'mango', 'orange', 'almod', 'melon']\n"
     ]
    }
   ],
   "source": [
    "fruits = ['apple', 'banana', 'cherry', 'mango', 'orange', 'almod', 'melon']\n",
    "print(fruits)"
   ]
  },
  {
   "cell_type": "code",
   "execution_count": 12,
   "id": "db072ce9-3ffa-492b-98b0-4e549a5add5c",
   "metadata": {},
   "outputs": [],
   "source": [
    "fruits[-2] = 'watermelon'"
   ]
  },
  {
   "cell_type": "code",
   "execution_count": 13,
   "id": "7d2557e1-8c0b-4f57-b938-c25caa8355d7",
   "metadata": {},
   "outputs": [
    {
     "data": {
      "text/plain": [
       "['apple', 'banana', 'cherry', 'mango', 'orange', 'watermelon', 'melon']"
      ]
     },
     "execution_count": 13,
     "metadata": {},
     "output_type": "execute_result"
    }
   ],
   "source": [
    "fruits"
   ]
  },
  {
   "cell_type": "code",
   "execution_count": 15,
   "id": "2ef42531-6a9a-4429-b426-71e10d72f93b",
   "metadata": {},
   "outputs": [],
   "source": [
    "fruits[5: 7] = ['grapes', 'stawberry']"
   ]
  },
  {
   "cell_type": "code",
   "execution_count": 16,
   "id": "b59a2adc-c1d0-4730-be9d-1ddbfd0a8805",
   "metadata": {},
   "outputs": [
    {
     "data": {
      "text/plain": [
       "['apple', 'banana', 'cherry', 'mango', 'orange', 'grapes', 'stawberry']"
      ]
     },
     "execution_count": 16,
     "metadata": {},
     "output_type": "execute_result"
    }
   ],
   "source": [
    "fruits"
   ]
  },
  {
   "cell_type": "code",
   "execution_count": 22,
   "id": "11ecf28c-957b-4128-8367-fd428160f047",
   "metadata": {},
   "outputs": [
    {
     "name": "stdout",
     "output_type": "stream",
     "text": [
      "['apple', 'banana', 'melon', 'cherry', 'mango', 'orange', 'almod', 'melon']\n"
     ]
    }
   ],
   "source": [
    "fruits.insert(2, 'melon')\n",
    "print(fruits)"
   ]
  },
  {
   "cell_type": "code",
   "execution_count": 23,
   "id": "adb16462-2f3e-41f6-b96c-caf8441f1eea",
   "metadata": {},
   "outputs": [],
   "source": [
    "fruits.append('watermelon')"
   ]
  },
  {
   "cell_type": "code",
   "execution_count": 24,
   "id": "2f62d227-c664-4e90-b2f6-15df18a49f66",
   "metadata": {},
   "outputs": [
    {
     "data": {
      "text/plain": [
       "['apple',\n",
       " 'banana',\n",
       " 'melon',\n",
       " 'cherry',\n",
       " 'mango',\n",
       " 'orange',\n",
       " 'almod',\n",
       " 'melon',\n",
       " 'watermelon']"
      ]
     },
     "execution_count": 24,
     "metadata": {},
     "output_type": "execute_result"
    }
   ],
   "source": [
    "fruits"
   ]
  },
  {
   "cell_type": "code",
   "execution_count": 25,
   "id": "e1733dad-2619-4090-a10b-49dadbf11285",
   "metadata": {},
   "outputs": [],
   "source": [
    "fruits.remove('mango')"
   ]
  },
  {
   "cell_type": "code",
   "execution_count": 30,
   "id": "5acacaf8-1de5-42fe-81ca-a8bb3b070d0f",
   "metadata": {},
   "outputs": [
    {
     "data": {
      "text/plain": [
       "['apple', 'banana', 'cherry', 'mango', 'orange', 'almod', 'melon']"
      ]
     },
     "execution_count": 30,
     "metadata": {},
     "output_type": "execute_result"
    }
   ],
   "source": [
    "fruits"
   ]
  },
  {
   "cell_type": "code",
   "execution_count": 31,
   "id": "b7b361d3-0033-4a3f-8751-eed29e9d97fc",
   "metadata": {},
   "outputs": [],
   "source": [
    "keeper = fruits.pop(-2)"
   ]
  },
  {
   "cell_type": "code",
   "execution_count": 32,
   "id": "a41a9ac8-287a-42f1-85e5-9f6a914debcc",
   "metadata": {},
   "outputs": [
    {
     "data": {
      "text/plain": [
       "['apple', 'banana', 'cherry', 'mango', 'orange', 'melon']"
      ]
     },
     "execution_count": 32,
     "metadata": {},
     "output_type": "execute_result"
    }
   ],
   "source": [
    "fruits"
   ]
  },
  {
   "cell_type": "code",
   "execution_count": 33,
   "id": "195d7a26-9556-4040-a24e-e9fd2e1e37d6",
   "metadata": {},
   "outputs": [
    {
     "data": {
      "text/plain": [
       "'almod'"
      ]
     },
     "execution_count": 33,
     "metadata": {},
     "output_type": "execute_result"
    }
   ],
   "source": [
    "keeper"
   ]
  },
  {
   "cell_type": "code",
   "execution_count": 36,
   "id": "4c2b5089-70c4-4a0f-aee7-cc0edbb145d9",
   "metadata": {},
   "outputs": [],
   "source": [
    "del fruits[2: 4]"
   ]
  },
  {
   "cell_type": "code",
   "execution_count": 37,
   "id": "3ecfedda-9c14-49e1-90db-3e4a80c73c1b",
   "metadata": {},
   "outputs": [
    {
     "data": {
      "text/plain": [
       "['apple', 'banana', 'orange']"
      ]
     },
     "execution_count": 37,
     "metadata": {},
     "output_type": "execute_result"
    }
   ],
   "source": [
    "fruits"
   ]
  },
  {
   "cell_type": "code",
   "execution_count": 39,
   "id": "3ae4a627-c79e-4031-9d9d-09c83116b4fd",
   "metadata": {},
   "outputs": [
    {
     "name": "stdout",
     "output_type": "stream",
     "text": [
      "['Mobile', 'telephone', 'airbods', 'shirts', 'hoddies', 'jeans']\n"
     ]
    }
   ],
   "source": [
    "# extend()\n",
    "\n",
    "product1 = ['Mobile', 'telephone', 'airbods']\n",
    "product2 = ['shirts', 'hoddies', 'jeans']\n",
    "\n",
    "product1.extend(product2)\n",
    "print(product1)"
   ]
  },
  {
   "cell_type": "code",
   "execution_count": 40,
   "id": "b1d271a4-c247-4b8d-a3e2-22c82ce0b67e",
   "metadata": {},
   "outputs": [
    {
     "data": {
      "text/plain": [
       "['shirts', 'hoddies', 'jeans']"
      ]
     },
     "execution_count": 40,
     "metadata": {},
     "output_type": "execute_result"
    }
   ],
   "source": [
    "product2"
   ]
  },
  {
   "cell_type": "code",
   "execution_count": 41,
   "id": "5ee315f3-adba-4faf-b925-c8797a4f6782",
   "metadata": {},
   "outputs": [],
   "source": [
    "# Create a list of 7 vegetables and apply different methods:\n",
    "# 1) append()\n",
    "# 2) insert()\n",
    "# 3) remove()\n",
    "# 4) pop()"
   ]
  },
  {
   "cell_type": "code",
   "execution_count": 44,
   "id": "f096cf34-71f6-4b75-9a66-b8359acb5765",
   "metadata": {},
   "outputs": [
    {
     "data": {
      "text/plain": [
       "['apple', 'banana', 'cherry', 'mango']"
      ]
     },
     "execution_count": 44,
     "metadata": {},
     "output_type": "execute_result"
    }
   ],
   "source": [
    "fruits"
   ]
  },
  {
   "cell_type": "code",
   "execution_count": 45,
   "id": "6bd9a27b-9e6b-48c9-aad8-42932ad277a3",
   "metadata": {},
   "outputs": [
    {
     "name": "stdout",
     "output_type": "stream",
     "text": [
      "['apple', 'banana', 'cherry', 'mango']\n",
      "['apple', 'banana', 'cherry', 'mango']\n"
     ]
    }
   ],
   "source": [
    "original = fruits\n",
    "print(fruits)\n",
    "print(original)"
   ]
  },
  {
   "cell_type": "code",
   "execution_count": 46,
   "id": "5c1f3d06-81e5-4fa9-bfa8-31ef69196a5b",
   "metadata": {},
   "outputs": [],
   "source": [
    "fruits.append('melon')"
   ]
  },
  {
   "cell_type": "code",
   "execution_count": 47,
   "id": "4fd1e4d6-a946-4efd-a2ef-26147eec14d3",
   "metadata": {},
   "outputs": [
    {
     "data": {
      "text/plain": [
       "['apple', 'banana', 'cherry', 'mango', 'melon']"
      ]
     },
     "execution_count": 47,
     "metadata": {},
     "output_type": "execute_result"
    }
   ],
   "source": [
    "fruits"
   ]
  },
  {
   "cell_type": "code",
   "execution_count": 48,
   "id": "30661239-b528-4081-8525-b8ad5f54af41",
   "metadata": {},
   "outputs": [
    {
     "data": {
      "text/plain": [
       "['apple', 'banana', 'cherry', 'mango', 'melon']"
      ]
     },
     "execution_count": 48,
     "metadata": {},
     "output_type": "execute_result"
    }
   ],
   "source": [
    "original"
   ]
  },
  {
   "cell_type": "code",
   "execution_count": 49,
   "id": "aab7d029-86f6-4865-9f22-38370b476e64",
   "metadata": {},
   "outputs": [
    {
     "name": "stdout",
     "output_type": "stream",
     "text": [
      "2133384267200\n",
      "2133384267200\n"
     ]
    }
   ],
   "source": [
    "print(id(fruits))\n",
    "print(id(original))"
   ]
  },
  {
   "cell_type": "code",
   "execution_count": 51,
   "id": "82eaf67d-7b30-4554-9aa0-a154b4561f7d",
   "metadata": {},
   "outputs": [
    {
     "name": "stdout",
     "output_type": "stream",
     "text": [
      "140704868766536\n",
      "140704868766536\n"
     ]
    }
   ],
   "source": [
    "x = 2\n",
    "y = 2\n",
    "print(id(x))\n",
    "print(id(y))"
   ]
  },
  {
   "cell_type": "code",
   "execution_count": 52,
   "id": "4f9fcbb4-16d8-4d2f-94ab-16d711fb7392",
   "metadata": {},
   "outputs": [],
   "source": [
    "original = fruits.copy()"
   ]
  },
  {
   "cell_type": "code",
   "execution_count": 53,
   "id": "07c93319-e031-4657-810b-f41f48eee648",
   "metadata": {},
   "outputs": [
    {
     "name": "stdout",
     "output_type": "stream",
     "text": [
      "2133378259520\n",
      "2133384267200\n"
     ]
    }
   ],
   "source": [
    "print(id(original))\n",
    "print(id(fruits))"
   ]
  },
  {
   "cell_type": "code",
   "execution_count": 54,
   "id": "b44d2231-8084-4fd1-bf3f-8eda3125e387",
   "metadata": {},
   "outputs": [],
   "source": [
    "fruits.append('gool')"
   ]
  },
  {
   "cell_type": "code",
   "execution_count": 55,
   "id": "a78f2045-774c-4d4a-bf1a-0f5f931f2be3",
   "metadata": {},
   "outputs": [
    {
     "data": {
      "text/plain": [
       "['apple', 'banana', 'cherry', 'mango', 'melon']"
      ]
     },
     "execution_count": 55,
     "metadata": {},
     "output_type": "execute_result"
    }
   ],
   "source": [
    "original"
   ]
  },
  {
   "cell_type": "code",
   "execution_count": 61,
   "id": "1031ac6e-bb98-47fd-b93b-c72e3555ba11",
   "metadata": {},
   "outputs": [
    {
     "name": "stdout",
     "output_type": "stream",
     "text": [
      "False\n",
      "140704868766536\n",
      "140704868766568\n"
     ]
    }
   ],
   "source": [
    "x = 2\n",
    "y = 3\n",
    "print(x is y)\n",
    "print(id(x))\n",
    "print(id(y))"
   ]
  },
  {
   "cell_type": "code",
   "execution_count": null,
   "id": "a85cccc0-7a14-4fb8-b167-128365d4d8bd",
   "metadata": {},
   "outputs": [],
   "source": []
  }
 ],
 "metadata": {
  "kernelspec": {
   "display_name": "Python 3 (ipykernel)",
   "language": "python",
   "name": "python3"
  },
  "language_info": {
   "codemirror_mode": {
    "name": "ipython",
    "version": 3
   },
   "file_extension": ".py",
   "mimetype": "text/x-python",
   "name": "python",
   "nbconvert_exporter": "python",
   "pygments_lexer": "ipython3",
   "version": "3.11.5"
  }
 },
 "nbformat": 4,
 "nbformat_minor": 5
}
