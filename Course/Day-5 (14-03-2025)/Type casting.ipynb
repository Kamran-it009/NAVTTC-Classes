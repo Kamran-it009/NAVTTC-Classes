{
 "cells": [
  {
   "cell_type": "code",
   "execution_count": 1,
   "id": "f0432314-a79d-4dc6-ae1d-3ba2e6aab3ca",
   "metadata": {},
   "outputs": [
    {
     "name": "stdout",
     "output_type": "stream",
     "text": [
      "<class 'float'>\n"
     ]
    }
   ],
   "source": [
    "x = 23.4\n",
    "print(type(x))"
   ]
  },
  {
   "cell_type": "code",
   "execution_count": 2,
   "id": "fc668365-d3b5-44b7-b228-115afb093596",
   "metadata": {},
   "outputs": [
    {
     "name": "stdout",
     "output_type": "stream",
     "text": [
      "23\n",
      "<class 'int'>\n"
     ]
    }
   ],
   "source": [
    "# float to integer\n",
    "new = int(x)\n",
    "print(new)\n",
    "print(type(new))"
   ]
  },
  {
   "cell_type": "code",
   "execution_count": 3,
   "id": "5adde19d-42e9-431a-8a7f-90a501c9b504",
   "metadata": {},
   "outputs": [
    {
     "name": "stdout",
     "output_type": "stream",
     "text": [
      "<class 'int'>\n"
     ]
    }
   ],
   "source": [
    "height = 54\n",
    "print(type(height))"
   ]
  },
  {
   "cell_type": "code",
   "execution_count": 4,
   "id": "3db81f7c-c112-4968-a80c-b8423b79ea83",
   "metadata": {},
   "outputs": [
    {
     "name": "stdout",
     "output_type": "stream",
     "text": [
      "54.0\n",
      "<class 'float'>\n"
     ]
    }
   ],
   "source": [
    "# integer to float\n",
    "new2 = float(height)\n",
    "print(new2)\n",
    "print(type(new2))"
   ]
  },
  {
   "cell_type": "code",
   "execution_count": 6,
   "id": "df015662-27ff-4cb4-8113-15ddd7bcec9a",
   "metadata": {},
   "outputs": [
    {
     "name": "stdout",
     "output_type": "stream",
     "text": [
      "54\n",
      "<class 'str'>\n"
     ]
    }
   ],
   "source": [
    "# float to string\n",
    "new3 = str(height)\n",
    "print(new3)\n",
    "print(type(new3))"
   ]
  },
  {
   "cell_type": "code",
   "execution_count": 11,
   "id": "726ca315-65dc-4992-99dc-de296816c9e0",
   "metadata": {},
   "outputs": [
    {
     "name": "stdout",
     "output_type": "stream",
     "text": [
      "True\n",
      "<class 'bool'>\n"
     ]
    }
   ],
   "source": [
    "# float to boolean\n",
    "new4 = bool(new2)\n",
    "print(new4)\n",
    "print(type(new4))"
   ]
  },
  {
   "cell_type": "code",
   "execution_count": 1,
   "id": "b090c253-f2b9-474d-8fdd-9d960d687824",
   "metadata": {},
   "outputs": [
    {
     "ename": "ValueError",
     "evalue": "invalid literal for int() with base 10: 'kamran'",
     "output_type": "error",
     "traceback": [
      "\u001b[1;31m---------------------------------------------------------------------------\u001b[0m",
      "\u001b[1;31mValueError\u001b[0m                                Traceback (most recent call last)",
      "Cell \u001b[1;32mIn[1], line 3\u001b[0m\n\u001b[0;32m      1\u001b[0m \u001b[38;5;66;03m# string to integer\u001b[39;00m\n\u001b[0;32m      2\u001b[0m name \u001b[38;5;241m=\u001b[39m \u001b[38;5;124m'\u001b[39m\u001b[38;5;124mkamran\u001b[39m\u001b[38;5;124m'\u001b[39m\n\u001b[1;32m----> 3\u001b[0m new5 \u001b[38;5;241m=\u001b[39m \u001b[38;5;28;43mint\u001b[39;49m\u001b[43m(\u001b[49m\u001b[43mname\u001b[49m\u001b[43m)\u001b[49m\n\u001b[0;32m      4\u001b[0m \u001b[38;5;28mprint\u001b[39m(new5)\n",
      "\u001b[1;31mValueError\u001b[0m: invalid literal for int() with base 10: 'kamran'"
     ]
    }
   ],
   "source": [
    "# string to integer\n",
    "name = 'kamran'\n",
    "new5 = int(name)\n",
    "print(new5)"
   ]
  },
  {
   "cell_type": "markdown",
   "id": "1e018d01-eb97-489a-bd54-45903069e250",
   "metadata": {},
   "source": [
    "##### String cannot be converted into integer or float."
   ]
  }
 ],
 "metadata": {
  "kernelspec": {
   "display_name": "Python 3 (ipykernel)",
   "language": "python",
   "name": "python3"
  },
  "language_info": {
   "codemirror_mode": {
    "name": "ipython",
    "version": 3
   },
   "file_extension": ".py",
   "mimetype": "text/x-python",
   "name": "python",
   "nbconvert_exporter": "python",
   "pygments_lexer": "ipython3",
   "version": "3.11.5"
  }
 },
 "nbformat": 4,
 "nbformat_minor": 5
}
