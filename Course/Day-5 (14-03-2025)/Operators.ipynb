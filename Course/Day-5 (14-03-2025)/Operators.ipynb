{
 "cells": [
  {
   "cell_type": "markdown",
   "id": "17b9d9ea-e60d-4d89-93d6-9251e8deb5a6",
   "metadata": {},
   "source": [
    "### Arthimetic Operators"
   ]
  },
  {
   "cell_type": "code",
   "execution_count": 1,
   "id": "4f8b56c2-160b-4eb1-a3e1-a5540f1d871e",
   "metadata": {},
   "outputs": [
    {
     "name": "stdout",
     "output_type": "stream",
     "text": [
      "7\n"
     ]
    }
   ],
   "source": [
    "a = 4\n",
    "b = 3\n",
    "\n",
    "print(a + b)"
   ]
  },
  {
   "cell_type": "code",
   "execution_count": 2,
   "id": "8f045c21-e967-4c4d-a2f4-01afe01298f8",
   "metadata": {},
   "outputs": [
    {
     "name": "stdout",
     "output_type": "stream",
     "text": [
      "1\n"
     ]
    }
   ],
   "source": [
    "print(a - b)"
   ]
  },
  {
   "cell_type": "code",
   "execution_count": 3,
   "id": "2ce8e4ed-fc4e-425e-8fd8-d90643005d38",
   "metadata": {},
   "outputs": [
    {
     "name": "stdout",
     "output_type": "stream",
     "text": [
      "12\n"
     ]
    }
   ],
   "source": [
    "print(a * b)"
   ]
  },
  {
   "cell_type": "code",
   "execution_count": 7,
   "id": "c7a560b7-b674-4c69-a650-54e466b3f983",
   "metadata": {},
   "outputs": [
    {
     "name": "stdout",
     "output_type": "stream",
     "text": [
      "1.3333333333333333\n"
     ]
    }
   ],
   "source": [
    "print(a / b)"
   ]
  },
  {
   "cell_type": "code",
   "execution_count": 8,
   "id": "61fa077c-50e4-43f4-962e-f80ce1d0a534",
   "metadata": {},
   "outputs": [
    {
     "name": "stdout",
     "output_type": "stream",
     "text": [
      "1\n"
     ]
    }
   ],
   "source": [
    "print(a % b)"
   ]
  },
  {
   "cell_type": "code",
   "execution_count": 13,
   "id": "e0f0adb9-83c4-46ea-ba00-6c38f44cddb4",
   "metadata": {},
   "outputs": [
    {
     "name": "stdout",
     "output_type": "stream",
     "text": [
      "16\n"
     ]
    }
   ],
   "source": [
    "print(2 ** 4)"
   ]
  },
  {
   "cell_type": "code",
   "execution_count": 25,
   "id": "b5d73e6b-f626-4ecd-977f-dd7ddab2312a",
   "metadata": {},
   "outputs": [
    {
     "name": "stdout",
     "output_type": "stream",
     "text": [
      "1\n"
     ]
    }
   ],
   "source": [
    "print(a // b)"
   ]
  },
  {
   "cell_type": "markdown",
   "id": "aa12840c-a385-4240-b9a4-79d70249d59c",
   "metadata": {},
   "source": [
    "### Comparison Operators"
   ]
  },
  {
   "cell_type": "code",
   "execution_count": 9,
   "id": "170c4a02-a5a1-4927-ad49-8039faa7df40",
   "metadata": {},
   "outputs": [
    {
     "name": "stdout",
     "output_type": "stream",
     "text": [
      "True\n"
     ]
    }
   ],
   "source": [
    "print(a > b)"
   ]
  },
  {
   "cell_type": "code",
   "execution_count": 15,
   "id": "10fe2b82-ebe2-4663-88a9-afaea0f6ae6a",
   "metadata": {},
   "outputs": [
    {
     "name": "stdout",
     "output_type": "stream",
     "text": [
      "True\n"
     ]
    }
   ],
   "source": [
    "print(a >= b)"
   ]
  },
  {
   "cell_type": "code",
   "execution_count": 10,
   "id": "fe1e4fc1-1549-4149-aeb1-d20156a31323",
   "metadata": {},
   "outputs": [
    {
     "name": "stdout",
     "output_type": "stream",
     "text": [
      "False\n"
     ]
    }
   ],
   "source": [
    "print(a < b)"
   ]
  },
  {
   "cell_type": "code",
   "execution_count": 16,
   "id": "34fe0295-7731-4db0-a1b5-27ed3e1a6355",
   "metadata": {},
   "outputs": [
    {
     "name": "stdout",
     "output_type": "stream",
     "text": [
      "False\n"
     ]
    }
   ],
   "source": [
    "print(a <= b)"
   ]
  },
  {
   "cell_type": "code",
   "execution_count": 11,
   "id": "28976d3d-3b3f-47f8-845e-55d9d20943c8",
   "metadata": {},
   "outputs": [
    {
     "name": "stdout",
     "output_type": "stream",
     "text": [
      "False\n"
     ]
    }
   ],
   "source": [
    "print(a == b)"
   ]
  },
  {
   "cell_type": "code",
   "execution_count": 12,
   "id": "ca4a94eb-d8cb-4e05-a1f5-381751ee28ce",
   "metadata": {},
   "outputs": [
    {
     "name": "stdout",
     "output_type": "stream",
     "text": [
      "True\n"
     ]
    }
   ],
   "source": [
    "print(a != b)"
   ]
  },
  {
   "cell_type": "markdown",
   "id": "ec75c6d0-dd92-4988-8820-0853f7a4e390",
   "metadata": {},
   "source": [
    "### Logical Operators"
   ]
  },
  {
   "cell_type": "code",
   "execution_count": 19,
   "id": "9dda842f-5385-4d01-8ccc-0365c26f0df5",
   "metadata": {},
   "outputs": [
    {
     "name": "stdout",
     "output_type": "stream",
     "text": [
      "True\n"
     ]
    }
   ],
   "source": [
    "print(5 > 2 and 4 > 1 and 2 < 10)"
   ]
  },
  {
   "cell_type": "code",
   "execution_count": 20,
   "id": "29d4527f-c3b4-4ede-b4ae-c943eddf6e78",
   "metadata": {},
   "outputs": [
    {
     "name": "stdout",
     "output_type": "stream",
     "text": [
      "False\n"
     ]
    }
   ],
   "source": [
    "print(5 > 2 and 4 > 1 and 2 > 10)"
   ]
  },
  {
   "cell_type": "code",
   "execution_count": 21,
   "id": "e3f925a9-4ab8-4c1a-b89b-55ce392ba833",
   "metadata": {},
   "outputs": [
    {
     "name": "stdout",
     "output_type": "stream",
     "text": [
      "True\n"
     ]
    }
   ],
   "source": [
    "print(5 < 2 or 4 < 1 or 2 < 10)"
   ]
  },
  {
   "cell_type": "code",
   "execution_count": 22,
   "id": "a4cc98d1-8e00-47d7-88d6-44ca7535b263",
   "metadata": {},
   "outputs": [
    {
     "name": "stdout",
     "output_type": "stream",
     "text": [
      "False\n"
     ]
    }
   ],
   "source": [
    "print(5 < 2 or 4 < 1 or 2 > 10)"
   ]
  },
  {
   "cell_type": "code",
   "execution_count": 23,
   "id": "5fc5dc9b-daef-43d5-b559-b3deb3881f68",
   "metadata": {},
   "outputs": [
    {
     "name": "stdout",
     "output_type": "stream",
     "text": [
      "False\n"
     ]
    }
   ],
   "source": [
    "print(not 5 > 2)"
   ]
  },
  {
   "cell_type": "markdown",
   "id": "16615909-2481-4fd3-a6c4-6500200ed73b",
   "metadata": {},
   "source": [
    "### Concatenation"
   ]
  },
  {
   "cell_type": "code",
   "execution_count": 24,
   "id": "00590049-4754-4bec-a580-b309a30f7d6e",
   "metadata": {},
   "outputs": [
    {
     "name": "stdout",
     "output_type": "stream",
     "text": [
      "KamranKhan\n"
     ]
    }
   ],
   "source": [
    "f_name = 'Kamran'\n",
    "l_name = 'Khan'\n",
    "print(f_name + l_name)"
   ]
  },
  {
   "cell_type": "markdown",
   "id": "a870c636-e2ce-4522-985e-71f9513b21a5",
   "metadata": {},
   "source": [
    "### Assignment Operator"
   ]
  },
  {
   "cell_type": "code",
   "execution_count": 2,
   "id": "e2ef347d",
   "metadata": {},
   "outputs": [
    {
     "name": "stdout",
     "output_type": "stream",
     "text": [
      "Asignment Operator: = \n"
     ]
    }
   ],
   "source": [
    "name = 'Kamran'\n",
    "print('Asignment Operator: = ')"
   ]
  },
  {
   "cell_type": "markdown",
   "id": "cf1be748",
   "metadata": {},
   "source": [
    "### Compound Assignment Operator"
   ]
  },
  {
   "cell_type": "code",
   "execution_count": 1,
   "id": "018617a8",
   "metadata": {},
   "outputs": [
    {
     "name": "stdout",
     "output_type": "stream",
     "text": [
      "6\n",
      "Compound Asignment Operator: += \n"
     ]
    }
   ],
   "source": [
    "x = 1\n",
    "x += 5 # x = x + 5\n",
    "print(x)\n",
    "print('Compound Asignment Operator: += ')"
   ]
  },
  {
   "cell_type": "code",
   "execution_count": 5,
   "id": "6bbdbb64-cfef-4f14-9fe9-a67f374baafc",
   "metadata": {},
   "outputs": [
    {
     "name": "stdout",
     "output_type": "stream",
     "text": [
      "6\n"
     ]
    }
   ],
   "source": []
  },
  {
   "cell_type": "code",
   "execution_count": 6,
   "id": "efa61882",
   "metadata": {},
   "outputs": [
    {
     "name": "stdout",
     "output_type": "stream",
     "text": [
      "5\n",
      "Compound Asignment Operator: -= \n"
     ]
    }
   ],
   "source": [
    "x = 10\n",
    "x -= 5 # x = x - 5\n",
    "print(x)\n",
    "print('Compound Asignment Operator: -= ')"
   ]
  },
  {
   "cell_type": "code",
   "execution_count": 7,
   "id": "c6d9b81f",
   "metadata": {},
   "outputs": [
    {
     "name": "stdout",
     "output_type": "stream",
     "text": [
      "10\n",
      "Compound Asignment Operator: *= \n"
     ]
    }
   ],
   "source": [
    "x = 2\n",
    "x *= 5 # x = x * 5\n",
    "print(x)\n",
    "print('Compound Asignment Operator: *= ')"
   ]
  },
  {
   "cell_type": "code",
   "execution_count": 8,
   "id": "7ea6244d",
   "metadata": {},
   "outputs": [
    {
     "name": "stdout",
     "output_type": "stream",
     "text": [
      "5.0\n",
      "Compound Asignment Operator: /= \n"
     ]
    }
   ],
   "source": [
    "x = 10\n",
    "x /= 2 # x = x / 2\n",
    "print(x)\n",
    "print('Compound Asignment Operator: /= ')"
   ]
  },
  {
   "cell_type": "code",
   "execution_count": 9,
   "id": "bc8ba0c5",
   "metadata": {},
   "outputs": [
    {
     "name": "stdout",
     "output_type": "stream",
     "text": [
      "1\n",
      "Compound Asignment Operator: %= \n"
     ]
    }
   ],
   "source": [
    "x = 10\n",
    "x %= 3 # x = x % 3\n",
    "print(x)\n",
    "print('Compound Asignment Operator: %= ')"
   ]
  },
  {
   "cell_type": "markdown",
   "id": "1fca05c3-5523-4c53-8a81-dc4551666d7f",
   "metadata": {},
   "source": [
    "### Increment/ decrement"
   ]
  },
  {
   "cell_type": "code",
   "execution_count": 17,
   "id": "fb518aff-7b2c-43df-8a21-3ab4dcd830b8",
   "metadata": {},
   "outputs": [
    {
     "name": "stdout",
     "output_type": "stream",
     "text": [
      "11\n",
      "10\n"
     ]
    }
   ],
   "source": [
    "x = 10\n",
    " \n",
    "x += 1 \n",
    "\n",
    "print(x)\n",
    "print(y)"
   ]
  },
  {
   "cell_type": "code",
   "execution_count": 12,
   "id": "c7ef0b3f-c9e2-4e63-863d-fecd7f10eb0c",
   "metadata": {},
   "outputs": [
    {
     "data": {
      "text/plain": [
       "1"
      ]
     },
     "execution_count": 12,
     "metadata": {},
     "output_type": "execute_result"
    }
   ],
   "source": [
    "++x"
   ]
  },
  {
   "cell_type": "code",
   "execution_count": 18,
   "id": "36914077-9d69-4977-a895-de043b8e5579",
   "metadata": {},
   "outputs": [
    {
     "data": {
      "text/plain": [
       "10"
      ]
     },
     "execution_count": 18,
     "metadata": {},
     "output_type": "execute_result"
    }
   ],
   "source": [
    "y"
   ]
  },
  {
   "cell_type": "code",
   "execution_count": null,
   "id": "204b8045-0fc2-4695-892e-3cf1c351423d",
   "metadata": {},
   "outputs": [],
   "source": []
  }
 ],
 "metadata": {
  "kernelspec": {
   "display_name": "Python 3 (ipykernel)",
   "language": "python",
   "name": "python3"
  },
  "language_info": {
   "codemirror_mode": {
    "name": "ipython",
    "version": 3
   },
   "file_extension": ".py",
   "mimetype": "text/x-python",
   "name": "python",
   "nbconvert_exporter": "python",
   "pygments_lexer": "ipython3",
   "version": "3.11.5"
  }
 },
 "nbformat": 4,
 "nbformat_minor": 5
}
