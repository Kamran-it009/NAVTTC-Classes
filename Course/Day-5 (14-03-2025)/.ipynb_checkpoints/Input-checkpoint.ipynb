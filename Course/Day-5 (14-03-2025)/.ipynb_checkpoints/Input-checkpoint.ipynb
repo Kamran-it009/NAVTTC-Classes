{
 "cells": [
  {
   "cell_type": "code",
   "execution_count": 4,
   "id": "619b6413-970f-45a5-8b99-ccaebd0941b2",
   "metadata": {},
   "outputs": [
    {
     "name": "stdin",
     "output_type": "stream",
     "text": [
      "Enter your name: kamran\n"
     ]
    },
    {
     "name": "stdout",
     "output_type": "stream",
     "text": [
      "<class 'str'>\n",
      "Hello kamran\n"
     ]
    }
   ],
   "source": [
    "# Case-1\n",
    "name = input('Enter your name:')\n",
    "print(type(name))\n",
    "print(f'Hello {name}')"
   ]
  },
  {
   "cell_type": "code",
   "execution_count": 9,
   "id": "9b414ed9-10a9-43cd-9d8e-2566731c61c7",
   "metadata": {},
   "outputs": [
    {
     "name": "stdin",
     "output_type": "stream",
     "text": [
      "Enter your age: 28\n"
     ]
    },
    {
     "name": "stdout",
     "output_type": "stream",
     "text": [
      "<class 'int'>\n"
     ]
    }
   ],
   "source": [
    "# Case-2\n",
    "age = int(input('Enter your age:'))\n",
    "print(type(age))"
   ]
  },
  {
   "cell_type": "code",
   "execution_count": null,
   "id": "b37cb01b-676e-4f66-b491-1766b8cfada5",
   "metadata": {},
   "outputs": [],
   "source": [
    "# Case-3\n",
    "height = float(input('Enter your age:'))\n",
    "print(type(height))"
   ]
  },
  {
   "cell_type": "code",
   "execution_count": null,
   "id": "b949c233-8d1b-46b5-a171-9d5f27dbb8be",
   "metadata": {},
   "outputs": [],
   "source": [
    "# Case-4\n",
    "disability = bool(input('Are you disable person (True/False):'))\n",
    "print(type(disability))"
   ]
  },
  {
   "cell_type": "code",
   "execution_count": 8,
   "id": "8f030db2-d38f-465a-a638-ee15703d18c1",
   "metadata": {},
   "outputs": [
    {
     "name": "stdin",
     "output_type": "stream",
     "text": [
      " 34\n",
      " 12\n"
     ]
    },
    {
     "name": "stdout",
     "output_type": "stream",
     "text": [
      "46\n"
     ]
    }
   ],
   "source": [
    "a = int(input())\n",
    "b = int(input())\n",
    "print(a + b)"
   ]
  },
  {
   "cell_type": "code",
   "execution_count": 11,
   "id": "df7d0d6d-4e31-4d63-828a-7f5c858e1ae9",
   "metadata": {},
   "outputs": [
    {
     "name": "stdin",
     "output_type": "stream",
     "text": [
      "Enter your name: Ali\n",
      "Enter your age: 24\n"
     ]
    },
    {
     "name": "stdout",
     "output_type": "stream",
     "text": [
      "My name is Ali and I am 24 years old.\n"
     ]
    }
   ],
   "source": [
    "name = input('Enter your name:')\n",
    "age = int(input('Enter your age:'))\n",
    "print(f'My name is {name} and I am {age} years old.')"
   ]
  }
 ],
 "metadata": {
  "kernelspec": {
   "display_name": "Python 3 (ipykernel)",
   "language": "python",
   "name": "python3"
  },
  "language_info": {
   "codemirror_mode": {
    "name": "ipython",
    "version": 3
   },
   "file_extension": ".py",
   "mimetype": "text/x-python",
   "name": "python",
   "nbconvert_exporter": "python",
   "pygments_lexer": "ipython3",
   "version": "3.11.5"
  }
 },
 "nbformat": 4,
 "nbformat_minor": 5
}
