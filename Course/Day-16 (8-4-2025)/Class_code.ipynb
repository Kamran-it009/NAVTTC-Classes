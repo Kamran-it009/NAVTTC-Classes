{
 "cells": [
  {
   "cell_type": "code",
   "execution_count": 2,
   "id": "dcb901d9-7869-463f-bc17-525c278c9a8e",
   "metadata": {},
   "outputs": [],
   "source": [
    "import numpy as np"
   ]
  },
  {
   "cell_type": "code",
   "execution_count": 7,
   "id": "5221f4de-201a-4b15-8a20-0f118bbaeb4e",
   "metadata": {},
   "outputs": [
    {
     "name": "stdout",
     "output_type": "stream",
     "text": [
      "[[1 2 3]\n",
      " [4 5 6]]\n",
      "Shape: (2, 3)\n"
     ]
    }
   ],
   "source": [
    "# Shape of array\n",
    "arr3 = np.array([[1, 2, 3], [4, 5, 6]])\n",
    "print(arr3)\n",
    "print('Shape:', arr3.shape)"
   ]
  },
  {
   "cell_type": "code",
   "execution_count": 13,
   "id": "9450368c-90e7-43c5-8978-c413fbc29eb5",
   "metadata": {},
   "outputs": [
    {
     "name": "stdout",
     "output_type": "stream",
     "text": [
      "2\n",
      "3\n",
      "Size: 6\n"
     ]
    }
   ],
   "source": [
    "data = arr3.shape\n",
    "print(data[0])\n",
    "print(data[1])\n",
    "print('Size:', data[0] * data[1])"
   ]
  },
  {
   "cell_type": "code",
   "execution_count": 14,
   "id": "b6594f35-8baf-4800-953d-7e36a399cbdd",
   "metadata": {},
   "outputs": [
    {
     "name": "stdout",
     "output_type": "stream",
     "text": [
      "[152  10  90]\n",
      "Itemsize: 4\n"
     ]
    }
   ],
   "source": [
    "# itemsize\n",
    "arr3 = np.array([152, 10, 90], dtype = 'int32')\n",
    "print(arr3)\n",
    "print('Itemsize:', arr3.itemsize)"
   ]
  },
  {
   "cell_type": "code",
   "execution_count": 25,
   "id": "ed181dbc-bcd3-42bf-8942-dc5b1232fccc",
   "metadata": {},
   "outputs": [
    {
     "name": "stdout",
     "output_type": "stream",
     "text": [
      "[[[ 1  2  3]\n",
      "  [ 4  5  6]]\n",
      "\n",
      " [[ 7  9  8]\n",
      "  [11 15  0]]]\n",
      "Dimension: 3\n"
     ]
    }
   ],
   "source": [
    "arr4 = np.array([[[1, 2, 3], [4, 5, 6]], [[7, 9, 8], [11, 15, 0]]])\n",
    "print(arr4)\n",
    "print('Dimension:', arr4.ndim)"
   ]
  },
  {
   "cell_type": "code",
   "execution_count": 26,
   "id": "5059d0df-b390-4906-ac42-21478ae96663",
   "metadata": {},
   "outputs": [
    {
     "data": {
      "text/plain": [
       "10"
      ]
     },
     "execution_count": 26,
     "metadata": {},
     "output_type": "execute_result"
    }
   ],
   "source": [
    "arr4.argmax()"
   ]
  },
  {
   "cell_type": "code",
   "execution_count": 28,
   "id": "3447cd68-9ae3-4a2d-b386-2f32a9dcc350",
   "metadata": {},
   "outputs": [
    {
     "name": "stdout",
     "output_type": "stream",
     "text": [
      "[[10 20 30]\n",
      " [40 50 60]]\n",
      "--------------------\n",
      "30\n"
     ]
    }
   ],
   "source": [
    "# accessing elements of 2D array\n",
    "arr3 = np.array([[10, 20, 30], [40, 50, 60]])\n",
    "print(arr3)\n",
    "print('--------------------')\n",
    "print(arr3[0, 2])"
   ]
  },
  {
   "cell_type": "code",
   "execution_count": 33,
   "id": "e934d704-cd08-4f54-84d0-57e42c9554ec",
   "metadata": {},
   "outputs": [
    {
     "name": "stdout",
     "output_type": "stream",
     "text": [
      "60\n"
     ]
    }
   ],
   "source": [
    "print(arr3[1, 1:3].max())"
   ]
  },
  {
   "cell_type": "code",
   "execution_count": 32,
   "id": "42d82bb1-7a4b-4ec2-8784-b5022a420308",
   "metadata": {},
   "outputs": [
    {
     "name": "stdout",
     "output_type": "stream",
     "text": [
      "[10 40]\n"
     ]
    }
   ],
   "source": [
    "print(arr3[0:2, 0])"
   ]
  },
  {
   "cell_type": "code",
   "execution_count": 34,
   "id": "1a527061-4a26-4e3a-84d1-ed60dfd3aff0",
   "metadata": {},
   "outputs": [
    {
     "name": "stdout",
     "output_type": "stream",
     "text": [
      "[[ True  True  True]\n",
      " [ True  True  True]\n",
      " [False False False]]\n"
     ]
    }
   ],
   "source": [
    "arr = np.empty([3,3], dtype = 'bool')\n",
    "print(arr)"
   ]
  },
  {
   "cell_type": "code",
   "execution_count": 38,
   "id": "3832791a-4a18-48ca-955b-65123b38122d",
   "metadata": {},
   "outputs": [
    {
     "name": "stdout",
     "output_type": "stream",
     "text": [
      "[[1. 0. 0. 0.]\n",
      " [0. 1. 0. 0.]\n",
      " [0. 0. 1. 0.]\n",
      " [0. 0. 0. 1.]]\n"
     ]
    }
   ],
   "source": [
    "# eye\n",
    "arr  = np.eye(4)\n",
    "print(arr)"
   ]
  },
  {
   "cell_type": "code",
   "execution_count": 41,
   "id": "d262ac1f-7d38-4445-a35d-570a7c348a6b",
   "metadata": {},
   "outputs": [],
   "source": [
    "numbers = list(range(5, 105, 5))"
   ]
  },
  {
   "cell_type": "code",
   "execution_count": 42,
   "id": "669be290-fb87-40fe-a5d1-3e922628ae97",
   "metadata": {},
   "outputs": [
    {
     "name": "stdout",
     "output_type": "stream",
     "text": [
      "[  5  10  15  20  25  30  35  40  45  50  55  60  65  70  75  80  85  90\n",
      "  95 100]\n"
     ]
    }
   ],
   "source": [
    "arr = np.array(numbers)\n",
    "print(arr)"
   ]
  },
  {
   "cell_type": "code",
   "execution_count": 43,
   "id": "a1f3437c-6a1a-4002-b578-a465ef29984b",
   "metadata": {},
   "outputs": [
    {
     "name": "stdout",
     "output_type": "stream",
     "text": [
      "[[ 8  7  1  2]\n",
      " [ 3  2  3  1]\n",
      " [29 32 11  9]]\n",
      "----------------\n",
      "Sorted Array : \n",
      "[[ 1  2  7  8]\n",
      " [ 1  2  3  3]\n",
      " [ 9 11 29 32]]\n"
     ]
    }
   ],
   "source": [
    "arr2D = np.array([[8, 7, 1, 2], [3, 2, 3, 1],\n",
    "[29, 32, 11, 9]])\n",
    "print(arr2D)\n",
    "print('----------------')\n",
    "arr2D.sort(axis=1)\n",
    "print('Sorted Array : ')\n",
    "print(arr2D)"
   ]
  },
  {
   "cell_type": "code",
   "execution_count": null,
   "id": "a72d79c3-3214-40ea-9306-5323c3a37396",
   "metadata": {},
   "outputs": [],
   "source": [
    "# write a program takes the rows and columns and create an array accordingly. \n",
    "# The program should get the elements for that array also and then \n",
    "# find the index of maximum and minimum number of that array."
   ]
  }
 ],
 "metadata": {
  "kernelspec": {
   "display_name": "Python 3 (ipykernel)",
   "language": "python",
   "name": "python3"
  },
  "language_info": {
   "codemirror_mode": {
    "name": "ipython",
    "version": 3
   },
   "file_extension": ".py",
   "mimetype": "text/x-python",
   "name": "python",
   "nbconvert_exporter": "python",
   "pygments_lexer": "ipython3",
   "version": "3.12.4"
  }
 },
 "nbformat": 4,
 "nbformat_minor": 5
}
