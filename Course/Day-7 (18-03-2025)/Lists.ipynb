{
 "cells": [
  {
   "cell_type": "code",
   "execution_count": 10,
   "id": "153bb0e6-91d6-4b5c-8642-78e1dfad094c",
   "metadata": {},
   "outputs": [
    {
     "name": "stdout",
     "output_type": "stream",
     "text": [
      "['apple', 'banana', 'cherry', 'mango']\n"
     ]
    }
   ],
   "source": [
    "fruits = ['apple', 'banana', 'cherry', 'mango']\n",
    "print(fruits)"
   ]
  },
  {
   "cell_type": "code",
   "execution_count": 3,
   "id": "5dc19830-e53e-4d7f-9e96-de1b7c3e8bdd",
   "metadata": {},
   "outputs": [
    {
     "data": {
      "text/plain": [
       "list"
      ]
     },
     "execution_count": 3,
     "metadata": {},
     "output_type": "execute_result"
    }
   ],
   "source": [
    "type(fruits)"
   ]
  },
  {
   "cell_type": "code",
   "execution_count": 5,
   "id": "6008c926-5e88-4c9e-b998-4e133e28b7b9",
   "metadata": {},
   "outputs": [
    {
     "name": "stdout",
     "output_type": "stream",
     "text": [
      "[23, 34, 45, 19]\n"
     ]
    }
   ],
   "source": [
    "ages = [23, 34, 45, 19]\n",
    "print(ages)"
   ]
  },
  {
   "cell_type": "code",
   "execution_count": 6,
   "id": "7eaa108e-2689-4b09-bf40-b2c63ea752fa",
   "metadata": {},
   "outputs": [
    {
     "name": "stdout",
     "output_type": "stream",
     "text": [
      "[23, 'apple', True]\n"
     ]
    }
   ],
   "source": [
    "mixed = [23, 'apple', True]\n",
    "print(mixed)"
   ]
  },
  {
   "cell_type": "code",
   "execution_count": null,
   "id": "22539e4c-292b-41d5-82a3-b4636abc34ae",
   "metadata": {},
   "outputs": [
    {
     "data": {
      "text/plain": [
       "'mango'"
      ]
     },
     "execution_count": 6,
     "metadata": {},
     "output_type": "execute_result"
    }
   ],
   "source": [
    "# Indexing\n",
    "fruits[3]"
   ]
  },
  {
   "cell_type": "code",
   "execution_count": 7,
   "id": "c2b356e2-ea9b-4de8-b257-4c7e11d9d291",
   "metadata": {},
   "outputs": [
    {
     "data": {
      "text/plain": [
       "'cherry'"
      ]
     },
     "execution_count": 7,
     "metadata": {},
     "output_type": "execute_result"
    }
   ],
   "source": [
    "# Negative Indexing\n",
    "fruits[-2]"
   ]
  },
  {
   "cell_type": "code",
   "execution_count": null,
   "id": "a50ee46a-1cf0-4c6b-9093-903e5fd6a1c6",
   "metadata": {},
   "outputs": [
    {
     "data": {
      "text/plain": [
       "'r'"
      ]
     },
     "execution_count": 9,
     "metadata": {},
     "output_type": "execute_result"
    }
   ],
   "source": [
    "# Double Indexing\n",
    "fruits[-2][4]"
   ]
  },
  {
   "cell_type": "code",
   "execution_count": 8,
   "id": "e0f69f32-03b7-4175-a427-ae0e20c26fc8",
   "metadata": {},
   "outputs": [
    {
     "data": {
      "text/plain": [
       "['banana', 'cherry']"
      ]
     },
     "execution_count": 8,
     "metadata": {},
     "output_type": "execute_result"
    }
   ],
   "source": [
    "# Slicing\n",
    "fruits[1:3]"
   ]
  },
  {
   "cell_type": "markdown",
   "id": "c467120d",
   "metadata": {},
   "source": [
    "### Updating list"
   ]
  },
  {
   "cell_type": "code",
   "execution_count": 11,
   "id": "db072ce9-3ffa-492b-98b0-4e549a5add5c",
   "metadata": {},
   "outputs": [
    {
     "name": "stdout",
     "output_type": "stream",
     "text": [
      "['apple', 'banana', 'orange', 'mango']\n"
     ]
    }
   ],
   "source": [
    "fruits[-2] = 'orange'\n",
    "print(fruits)"
   ]
  },
  {
   "cell_type": "code",
   "execution_count": 12,
   "id": "2ef42531-6a9a-4429-b426-71e10d72f93b",
   "metadata": {},
   "outputs": [
    {
     "name": "stdout",
     "output_type": "stream",
     "text": [
      "['apple', 'banana', 'orange', 'mango', 'grapes', 'stawberry']\n"
     ]
    }
   ],
   "source": [
    "fruits[5: 7] = ['grapes', 'stawberry']\n",
    "print(fruits)"
   ]
  },
  {
   "cell_type": "markdown",
   "id": "d24bdf81",
   "metadata": {},
   "source": [
    "### List Methods"
   ]
  },
  {
   "cell_type": "code",
   "execution_count": 14,
   "id": "11ecf28c-957b-4128-8367-fd428160f047",
   "metadata": {},
   "outputs": [
    {
     "name": "stdout",
     "output_type": "stream",
     "text": [
      "['apple', 'banana', 'melon', 'orange', 'mango', 'grapes', 'stawberry']\n"
     ]
    }
   ],
   "source": [
    "fruits.insert(2, 'melon')\n",
    "print(fruits)"
   ]
  },
  {
   "cell_type": "code",
   "execution_count": 15,
   "id": "adb16462-2f3e-41f6-b96c-caf8441f1eea",
   "metadata": {},
   "outputs": [
    {
     "name": "stdout",
     "output_type": "stream",
     "text": [
      "['apple', 'banana', 'melon', 'orange', 'mango', 'grapes', 'stawberry', 'watermelon']\n"
     ]
    }
   ],
   "source": [
    "fruits.append('watermelon')\n",
    "print(fruits)"
   ]
  },
  {
   "cell_type": "code",
   "execution_count": 16,
   "id": "e1733dad-2619-4090-a10b-49dadbf11285",
   "metadata": {},
   "outputs": [
    {
     "name": "stdout",
     "output_type": "stream",
     "text": [
      "['apple', 'banana', 'melon', 'orange', 'grapes', 'stawberry', 'watermelon']\n"
     ]
    }
   ],
   "source": [
    "fruits.remove('mango')\n",
    "print(fruits)"
   ]
  },
  {
   "cell_type": "code",
   "execution_count": 17,
   "id": "b7b361d3-0033-4a3f-8751-eed29e9d97fc",
   "metadata": {},
   "outputs": [
    {
     "name": "stdout",
     "output_type": "stream",
     "text": [
      "['apple', 'banana', 'melon', 'orange', 'grapes', 'watermelon']\n",
      "Removed item: stawberry\n"
     ]
    }
   ],
   "source": [
    "keeper = fruits.pop(-2)\n",
    "print(fruits)\n",
    "print('Removed item:', keeper)"
   ]
  },
  {
   "cell_type": "code",
   "execution_count": 18,
   "id": "4c2b5089-70c4-4a0f-aee7-cc0edbb145d9",
   "metadata": {},
   "outputs": [
    {
     "name": "stdout",
     "output_type": "stream",
     "text": [
      "['apple', 'banana', 'grapes', 'watermelon']\n"
     ]
    }
   ],
   "source": [
    "del fruits[2: 4]\n",
    "print(fruits)"
   ]
  },
  {
   "cell_type": "code",
   "execution_count": 19,
   "id": "3ae4a627-c79e-4031-9d9d-09c83116b4fd",
   "metadata": {},
   "outputs": [
    {
     "name": "stdout",
     "output_type": "stream",
     "text": [
      "['Mobile', 'telephone', 'airbods', 'shirts', 'hoddies', 'jeans']\n"
     ]
    }
   ],
   "source": [
    "# extend()\n",
    "\n",
    "product1 = ['Mobile', 'telephone', 'airbods']\n",
    "product2 = ['shirts', 'hoddies', 'jeans']\n",
    "\n",
    "product1.extend(product2)\n",
    "print(product1)"
   ]
  },
  {
   "cell_type": "markdown",
   "id": "5ee315f3-adba-4faf-b925-c8797a4f6782",
   "metadata": {},
   "source": [
    "### Class Task\n",
    "##### Create a list of 7 vegetables and apply different methods:\n",
    "1.  append()\n",
    "2. insert()\n",
    "3. remove()\n",
    "4. pop()"
   ]
  },
  {
   "cell_type": "code",
   "execution_count": null,
   "id": "6bd9a27b-9e6b-48c9-aad8-42932ad277a3",
   "metadata": {},
   "outputs": [
    {
     "name": "stdout",
     "output_type": "stream",
     "text": [
      "['apple', 'banana', 'cherry', 'mango']\n",
      "['apple', 'banana', 'cherry', 'mango']\n"
     ]
    }
   ],
   "source": [
    "# Deep Copy\n",
    "original = fruits\n",
    "print(fruits)\n",
    "print(original)"
   ]
  },
  {
   "cell_type": "code",
   "execution_count": 25,
   "id": "5c1f3d06-81e5-4fa9-bfa8-31ef69196a5b",
   "metadata": {},
   "outputs": [
    {
     "name": "stdout",
     "output_type": "stream",
     "text": [
      "['apple', 'banana', 'cherry', 'mango', 'orange']\n"
     ]
    }
   ],
   "source": [
    "fruits.append('orange')\n",
    "print(fruits)"
   ]
  },
  {
   "cell_type": "code",
   "execution_count": 26,
   "id": "4fd1e4d6-a946-4efd-a2ef-26147eec14d3",
   "metadata": {},
   "outputs": [
    {
     "name": "stdout",
     "output_type": "stream",
     "text": [
      "['apple', 'banana', 'cherry', 'mango', 'orange']\n",
      "['apple', 'banana', 'cherry', 'mango', 'orange']\n"
     ]
    }
   ],
   "source": [
    "print(fruits)\n",
    "print(original)"
   ]
  },
  {
   "cell_type": "code",
   "execution_count": 27,
   "id": "aab7d029-86f6-4865-9f22-38370b476e64",
   "metadata": {},
   "outputs": [
    {
     "name": "stdout",
     "output_type": "stream",
     "text": [
      "2258718315648\n",
      "2258718315648\n"
     ]
    }
   ],
   "source": [
    "print(id(fruits))\n",
    "print(id(original))"
   ]
  },
  {
   "cell_type": "code",
   "execution_count": 28,
   "id": "4f9fcbb4-16d8-4d2f-94ab-16d711fb7392",
   "metadata": {},
   "outputs": [
    {
     "name": "stdout",
     "output_type": "stream",
     "text": [
      "2258749377792\n",
      "2258718315648\n"
     ]
    }
   ],
   "source": [
    "original = fruits.copy()\n",
    "print(id(original))\n",
    "print(id(fruits))"
   ]
  },
  {
   "cell_type": "code",
   "execution_count": 29,
   "id": "b44d2231-8084-4fd1-bf3f-8eda3125e387",
   "metadata": {},
   "outputs": [
    {
     "name": "stdout",
     "output_type": "stream",
     "text": [
      "['apple', 'banana', 'cherry', 'mango', 'orange', 'gool']\n",
      "['apple', 'banana', 'cherry', 'mango', 'orange']\n"
     ]
    }
   ],
   "source": [
    "fruits.append('gool')\n",
    "print(fruits)\n",
    "print(original)"
   ]
  },
  {
   "cell_type": "code",
   "execution_count": null,
   "id": "1031ac6e-bb98-47fd-b93b-c72e3555ba11",
   "metadata": {},
   "outputs": [
    {
     "name": "stdout",
     "output_type": "stream",
     "text": [
      "True\n",
      "140703419503432\n",
      "140703419503432\n"
     ]
    }
   ],
   "source": [
    "# References are same on the basis of data stored in the memory.\n",
    "x = 2\n",
    "y = 2\n",
    "print(x is y) # Identity Operator\n",
    "print(id(x))\n",
    "print(id(y))"
   ]
  },
  {
   "cell_type": "code",
   "execution_count": 32,
   "id": "f549eeee",
   "metadata": {},
   "outputs": [
    {
     "name": "stdout",
     "output_type": "stream",
     "text": [
      "False\n",
      "2258749421632\n",
      "2258749578496\n"
     ]
    }
   ],
   "source": [
    "# Solution\n",
    "x = [2]\n",
    "y = [2]\n",
    "\n",
    "print(x is y)  # False, because lists are mutable and stored separately\n",
    "print(id(x))\n",
    "print(id(y))"
   ]
  }
 ],
 "metadata": {
  "kernelspec": {
   "display_name": "base",
   "language": "python",
   "name": "python3"
  },
  "language_info": {
   "codemirror_mode": {
    "name": "ipython",
    "version": 3
   },
   "file_extension": ".py",
   "mimetype": "text/x-python",
   "name": "python",
   "nbconvert_exporter": "python",
   "pygments_lexer": "ipython3",
   "version": "3.11.5"
  }
 },
 "nbformat": 4,
 "nbformat_minor": 5
}
