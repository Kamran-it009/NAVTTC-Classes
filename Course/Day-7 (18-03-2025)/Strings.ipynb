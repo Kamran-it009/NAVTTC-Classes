{
 "cells": [
  {
   "cell_type": "markdown",
   "id": "179ebbad",
   "metadata": {},
   "source": [
    "## Strings"
   ]
  },
  {
   "cell_type": "code",
   "execution_count": 20,
   "id": "1143012d-ea37-40fd-b138-4ec08c5d0786",
   "metadata": {},
   "outputs": [
    {
     "name": "stdout",
     "output_type": "stream",
     "text": [
      "Muhammad Kamran khan\n"
     ]
    }
   ],
   "source": [
    "name = 'Muhammad Kamran khan'\n",
    "print(name)"
   ]
  },
  {
   "cell_type": "markdown",
   "id": "623ebc2e-0daf-4524-acaa-f5f42fda6b51",
   "metadata": {},
   "source": [
    "#### Indexing"
   ]
  },
  {
   "cell_type": "code",
   "execution_count": 2,
   "id": "b012d5f6-2497-4931-89c2-41ccc0925ece",
   "metadata": {},
   "outputs": [
    {
     "name": "stdout",
     "output_type": "stream",
     "text": [
      "K\n"
     ]
    }
   ],
   "source": [
    "print(name[9])"
   ]
  },
  {
   "cell_type": "markdown",
   "id": "49d6f04f-750a-4f9e-a2fe-d7fb1d5d0740",
   "metadata": {},
   "source": [
    "#### Negative indexing"
   ]
  },
  {
   "cell_type": "code",
   "execution_count": 3,
   "id": "51d0abe6-e8ff-40fd-80e3-8ba71b85c4c2",
   "metadata": {},
   "outputs": [
    {
     "name": "stdout",
     "output_type": "stream",
     "text": [
      "k\n"
     ]
    }
   ],
   "source": [
    "print(name[-4])"
   ]
  },
  {
   "cell_type": "markdown",
   "id": "08707b57-c9fc-4593-ac34-48340a72bd36",
   "metadata": {},
   "source": [
    "#### Slicing"
   ]
  },
  {
   "cell_type": "code",
   "execution_count": 11,
   "id": "9601e9cd-2ddb-4b69-ac9c-841574d60a1b",
   "metadata": {},
   "outputs": [
    {
     "data": {
      "text/plain": [
       "'Kamran'"
      ]
     },
     "execution_count": 11,
     "metadata": {},
     "output_type": "execute_result"
    }
   ],
   "source": [
    "# variable_name[start: end: step]\n",
    "name[9 : 15]"
   ]
  },
  {
   "cell_type": "code",
   "execution_count": 5,
   "id": "7ef53ba1-983e-41f0-bce4-cb02a3e80158",
   "metadata": {},
   "outputs": [
    {
     "data": {
      "text/plain": [
       "'Muhammad Kamran'"
      ]
     },
     "execution_count": 5,
     "metadata": {},
     "output_type": "execute_result"
    }
   ],
   "source": [
    "name[:15]"
   ]
  },
  {
   "cell_type": "code",
   "execution_count": 6,
   "id": "a3cda543-20ac-44b1-8b6f-cc7abb9db612",
   "metadata": {},
   "outputs": [
    {
     "data": {
      "text/plain": [
       "'Kamran khan'"
      ]
     },
     "execution_count": 6,
     "metadata": {},
     "output_type": "execute_result"
    }
   ],
   "source": [
    "name[9:]"
   ]
  },
  {
   "cell_type": "code",
   "execution_count": 7,
   "id": "f461b89a-98a2-4523-b48e-057bb858e81f",
   "metadata": {},
   "outputs": [
    {
     "data": {
      "text/plain": [
       "'Muhammad Kamran khan'"
      ]
     },
     "execution_count": 7,
     "metadata": {},
     "output_type": "execute_result"
    }
   ],
   "source": [
    "name[:]"
   ]
  },
  {
   "cell_type": "code",
   "execution_count": 8,
   "id": "61f09b1e-1f3b-437d-a87b-5722f90ba411",
   "metadata": {},
   "outputs": [
    {
     "data": {
      "text/plain": [
       "'Kma'"
      ]
     },
     "execution_count": 8,
     "metadata": {},
     "output_type": "execute_result"
    }
   ],
   "source": [
    "name[9: 15: 2]"
   ]
  },
  {
   "cell_type": "code",
   "execution_count": 9,
   "id": "8b867d2f-1a39-40fc-a6fe-ef33efc432a0",
   "metadata": {},
   "outputs": [
    {
     "data": {
      "text/plain": [
       "'Kma hn'"
      ]
     },
     "execution_count": 9,
     "metadata": {},
     "output_type": "execute_result"
    }
   ],
   "source": [
    "name[9::2]"
   ]
  },
  {
   "cell_type": "code",
   "execution_count": 10,
   "id": "b95ed7db-8382-4e58-bd52-6540798399d4",
   "metadata": {},
   "outputs": [
    {
     "data": {
      "text/plain": [
       "'MaaKr a'"
      ]
     },
     "execution_count": 10,
     "metadata": {},
     "output_type": "execute_result"
    }
   ],
   "source": [
    "name[::3]"
   ]
  },
  {
   "cell_type": "code",
   "execution_count": 11,
   "id": "205ffc40-c1ea-44bc-9811-bbf534bcab75",
   "metadata": {},
   "outputs": [
    {
     "name": "stdout",
     "output_type": "stream",
     "text": [
      "Muhammad Kamran khan\n"
     ]
    },
    {
     "data": {
      "text/plain": [
       "' Kamran'"
      ]
     },
     "execution_count": 11,
     "metadata": {},
     "output_type": "execute_result"
    }
   ],
   "source": [
    "print(name)\n",
    "name[-12: -5]"
   ]
  },
  {
   "cell_type": "code",
   "execution_count": 12,
   "id": "9e4ef99f-5cac-4d13-a455-5393a4d872a8",
   "metadata": {},
   "outputs": [
    {
     "data": {
      "text/plain": [
       "' Kamran'"
      ]
     },
     "execution_count": 12,
     "metadata": {},
     "output_type": "execute_result"
    }
   ],
   "source": [
    "name[-12: 15]"
   ]
  },
  {
   "cell_type": "code",
   "execution_count": 27,
   "id": "2457d24d-49f4-45d2-82c6-93ae6b3b3ba7",
   "metadata": {},
   "outputs": [],
   "source": [
    "# Store your full name in a variable and extract the following using negative indexing\n",
    "# 1) Middle name\n",
    "# 2) first name\n",
    "# 3) last name"
   ]
  },
  {
   "cell_type": "markdown",
   "id": "fadcf83a-d6a2-4500-831f-96cca752b793",
   "metadata": {},
   "source": [
    "### String Methods"
   ]
  },
  {
   "cell_type": "code",
   "execution_count": 13,
   "id": "31e49022-a747-48c7-b837-0228a1fb7e01",
   "metadata": {},
   "outputs": [
    {
     "name": "stdout",
     "output_type": "stream",
     "text": [
      "Lenght of string: 20\n"
     ]
    }
   ],
   "source": [
    "# Lenght of String\n",
    "print('Lenght of string:', len(name))"
   ]
  },
  {
   "cell_type": "code",
   "execution_count": 14,
   "id": "10528bfe-f15b-4995-9e79-f2d4fb8dc31c",
   "metadata": {},
   "outputs": [
    {
     "name": "stdout",
     "output_type": "stream",
     "text": [
      "String in uppercase: MUHAMMAD KAMRAN KHAN\n"
     ]
    }
   ],
   "source": [
    "# Upper Case\n",
    "print('String in uppercase:', name.upper())"
   ]
  },
  {
   "cell_type": "code",
   "execution_count": 15,
   "id": "d98b6a50-93bd-48c0-9790-ee153ae4623d",
   "metadata": {},
   "outputs": [
    {
     "name": "stdout",
     "output_type": "stream",
     "text": [
      "String in lowercase: muhammad kamran khan\n"
     ]
    }
   ],
   "source": [
    "# Lower Case\n",
    "print('String in lowercase:',name.lower())"
   ]
  },
  {
   "cell_type": "code",
   "execution_count": 16,
   "id": "ce4cdfc2-07ec-472e-9eeb-04f9e7739037",
   "metadata": {},
   "outputs": [
    {
     "name": "stdout",
     "output_type": "stream",
     "text": [
      "Splitting string: ['Muhammad', 'Kamran', 'khan']\n"
     ]
    }
   ],
   "source": [
    "# Splitting\n",
    "words = name.split()\n",
    "print('Splitting string:', words)"
   ]
  },
  {
   "cell_type": "code",
   "execution_count": 19,
   "id": "e72568ad",
   "metadata": {},
   "outputs": [
    {
     "data": {
      "text/plain": [
       "['Ali', 'Haider']"
      ]
     },
     "execution_count": 19,
     "metadata": {},
     "output_type": "execute_result"
    }
   ],
   "source": [
    "name2 = 'Ali-Haider'\n",
    "name2.split('-')"
   ]
  },
  {
   "cell_type": "code",
   "execution_count": 17,
   "id": "59b066a8-6f9e-4746-91e4-1319029a1ae2",
   "metadata": {},
   "outputs": [
    {
     "name": "stdout",
     "output_type": "stream",
     "text": [
      "Joining strings: Muhammad-Kamran-khan\n"
     ]
    }
   ],
   "source": [
    "# Joining\n",
    "print('Joining strings:', '-'.join(words))"
   ]
  },
  {
   "cell_type": "code",
   "execution_count": 21,
   "id": "cb6adc9b-4003-47f0-beb8-47a1328163c0",
   "metadata": {},
   "outputs": [
    {
     "name": "stdout",
     "output_type": "stream",
     "text": [
      "Find position of text: 9\n"
     ]
    }
   ],
   "source": [
    "# Text Finding\n",
    "print('Find position of text:', name.find('Kamran'))"
   ]
  },
  {
   "cell_type": "code",
   "execution_count": 22,
   "id": "08648189-f08b-4667-b0a2-03d65d8f9c02",
   "metadata": {},
   "outputs": [
    {
     "name": "stdout",
     "output_type": "stream",
     "text": [
      "Replace string with any other string: Muhammad Kamran khan\n"
     ]
    }
   ],
   "source": [
    "# Text Replace\n",
    "print('Replace string with any other string:', name.replace('Khan', 'Developer'))"
   ]
  },
  {
   "cell_type": "code",
   "execution_count": 23,
   "id": "16e64153-64ae-4409-8bf9-9c5102b4f7f7",
   "metadata": {},
   "outputs": [
    {
     "name": "stdout",
     "output_type": "stream",
     "text": [
      "Check string starts with: True\n"
     ]
    }
   ],
   "source": [
    "# Checking Text Starts With\n",
    "print('Check string starts with:', name.startswith('Muhammad'))"
   ]
  },
  {
   "cell_type": "code",
   "execution_count": 24,
   "id": "b7345424-4773-4048-bbcc-dd957f311e37",
   "metadata": {},
   "outputs": [
    {
     "name": "stdout",
     "output_type": "stream",
     "text": [
      "Check string ends with: False\n"
     ]
    }
   ],
   "source": [
    "# Checking Text Ends With\n",
    "print('Check string ends with:', name.endswith('Khan'))"
   ]
  },
  {
   "cell_type": "code",
   "execution_count": 25,
   "id": "0542ddb7-e4b2-4550-99d2-b2b460134bda",
   "metadata": {},
   "outputs": [
    {
     "name": "stdout",
     "output_type": "stream",
     "text": [
      "Print string in reverse position: nahk narmaK dammahuM\n"
     ]
    }
   ],
   "source": [
    "# Reversing a String\n",
    "print('Print string in reverse position:', name[::-1])"
   ]
  },
  {
   "cell_type": "code",
   "execution_count": 26,
   "id": "8709140b-26fc-4110-98aa-a8c8a9b09f0b",
   "metadata": {},
   "outputs": [
    {
     "name": "stdout",
     "output_type": "stream",
     "text": [
      "Check string is present or not: True\n"
     ]
    }
   ],
   "source": [
    "# Checking Substring Presence\n",
    "print('Check string is present or not:', 'Kamran' in name)"
   ]
  }
 ],
 "metadata": {
  "kernelspec": {
   "display_name": "base",
   "language": "python",
   "name": "python3"
  },
  "language_info": {
   "codemirror_mode": {
    "name": "ipython",
    "version": 3
   },
   "file_extension": ".py",
   "mimetype": "text/x-python",
   "name": "python",
   "nbconvert_exporter": "python",
   "pygments_lexer": "ipython3",
   "version": "3.11.5"
  }
 },
 "nbformat": 4,
 "nbformat_minor": 5
}
