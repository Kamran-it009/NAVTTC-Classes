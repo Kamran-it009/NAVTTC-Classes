{
 "cells": [
  {
   "cell_type": "markdown",
   "id": "714e0687",
   "metadata": {},
   "source": [
    "### Nested Conditions"
   ]
  },
  {
   "cell_type": "code",
   "execution_count": 6,
   "id": "37fca50b-b0ee-44fe-84fd-324cb69f4964",
   "metadata": {},
   "outputs": [
    {
     "name": "stdout",
     "output_type": "stream",
     "text": [
      "Status of English subject: fail\n"
     ]
    },
    {
     "name": "stdout",
     "output_type": "stream",
     "text": [
      "You are not eligible\n"
     ]
    }
   ],
   "source": [
    "eng = input('Status of English subject:')\n",
    "if eng == 'pass':\n",
    "    print('You are on next stage')\n",
    "    math = input('Status of Math subject:')\n",
    "    if math == 'pass':\n",
    "        print('Promoted')\n",
    "    else:\n",
    "        print('Try again')\n",
    "else:\n",
    "    print('You are not eligible')\n",
    "    "
   ]
  },
  {
   "cell_type": "markdown",
   "id": "39e7b758",
   "metadata": {},
   "source": [
    "### Short-cut of if-else"
   ]
  },
  {
   "cell_type": "code",
   "execution_count": 10,
   "id": "a79617e4-8d3a-4acb-83d5-608fb399329e",
   "metadata": {},
   "outputs": [
    {
     "name": "stdout",
     "output_type": "stream",
     "text": [
      "Enter no: 0\n"
     ]
    },
    {
     "name": "stdout",
     "output_type": "stream",
     "text": [
      "Postive\n"
     ]
    }
   ],
   "source": [
    "# true_case if condition else false_case\n",
    "num = int(input('Enter no:'))\n",
    "print('Postive') if num >= 0 else print('Negative')"
   ]
  }
 ],
 "metadata": {
  "kernelspec": {
   "display_name": "Python 3 (ipykernel)",
   "language": "python",
   "name": "python3"
  },
  "language_info": {
   "codemirror_mode": {
    "name": "ipython",
    "version": 3
   },
   "file_extension": ".py",
   "mimetype": "text/x-python",
   "name": "python",
   "nbconvert_exporter": "python",
   "pygments_lexer": "ipython3",
   "version": "3.11.5"
  }
 },
 "nbformat": 4,
 "nbformat_minor": 5
}
