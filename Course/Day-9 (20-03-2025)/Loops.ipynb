{
 "cells": [
  {
   "cell_type": "markdown",
   "id": "5f6feea6-ecfb-47ed-ae6f-e4b2027de2b7",
   "metadata": {},
   "source": [
    "### While Loop"
   ]
  },
  {
   "cell_type": "code",
   "execution_count": 1,
   "id": "192656fa",
   "metadata": {},
   "outputs": [
    {
     "name": "stdout",
     "output_type": "stream",
     "text": [
      "1-Hello Corvit\n",
      "2-Hello Corvit\n",
      "3-Hello Corvit\n",
      "4-Hello Corvit\n",
      "5-Hello Corvit\n",
      "6-Hello Corvit\n",
      "7-Hello Corvit\n",
      "8-Hello Corvit\n",
      "9-Hello Corvit\n",
      "10-Hello Corvit\n"
     ]
    }
   ],
   "source": [
    "n = 1\n",
    "while n <= 10:\n",
    "    print(f'{n}-Hello Corvit')\n",
    "    n += 1"
   ]
  },
  {
   "cell_type": "code",
   "execution_count": 2,
   "id": "049339ec-8867-41a9-b804-d2ac58799eaf",
   "metadata": {},
   "outputs": [
    {
     "name": "stdout",
     "output_type": "stream",
     "text": [
      "1-Hello Corvit\n",
      "3-Hello Corvit\n",
      "5-Hello Corvit\n",
      "7-Hello Corvit\n",
      "9-Hello Corvit\n"
     ]
    }
   ],
   "source": [
    "n = 1\n",
    "while n <= 10:\n",
    "    print(f'{n}-Hello Corvit')\n",
    "    n += 2"
   ]
  },
  {
   "cell_type": "code",
   "execution_count": 15,
   "id": "d1b3fe79-1982-4b0d-8f55-b5114473b065",
   "metadata": {},
   "outputs": [
    {
     "data": {
      "text/plain": [
       "[2, 3, 4, 5, 6, 7, 8, 9]"
      ]
     },
     "execution_count": 15,
     "metadata": {},
     "output_type": "execute_result"
    }
   ],
   "source": [
    "# range(start, end, step)\n",
    "list(range(2, 10))"
   ]
  },
  {
   "cell_type": "code",
   "execution_count": 21,
   "id": "4af28f03-d24b-4d27-b88d-7fe4aa7c8aa4",
   "metadata": {},
   "outputs": [
    {
     "data": {
      "text/plain": [
       "[2, 4, 6, 8]"
      ]
     },
     "execution_count": 21,
     "metadata": {},
     "output_type": "execute_result"
    }
   ],
   "source": [
    "list(range(2, 10, 2))"
   ]
  },
  {
   "cell_type": "markdown",
   "id": "78915cd1",
   "metadata": {},
   "source": [
    "### For Loop"
   ]
  },
  {
   "cell_type": "code",
   "execution_count": 27,
   "id": "b3f7654b-072f-4edb-94c4-952bf91c12f0",
   "metadata": {},
   "outputs": [
    {
     "name": "stdout",
     "output_type": "stream",
     "text": [
      "0-Hello Corvit\n",
      "2-Hello Corvit\n",
      "4-Hello Corvit\n",
      "6-Hello Corvit\n",
      "8-Hello Corvit\n"
     ]
    }
   ],
   "source": [
    "for i in range(0, 10, 2):\n",
    "    print(f'{i}-Hello Corvit')"
   ]
  },
  {
   "cell_type": "code",
   "execution_count": null,
   "id": "95c260fd-9314-4f06-9668-f5a41cffcfcf",
   "metadata": {},
   "outputs": [
    {
     "name": "stdout",
     "output_type": "stream",
     "text": [
      "0-Hello Corvit\n",
      "1-Hello Corvit\n",
      "2-Hello Corvit\n",
      "3-Hello Corvit\n",
      "4-Hello Corvit\n",
      "5-Hello Corvit\n",
      "6-Hello Corvit\n",
      "7-Hello Corvit\n",
      "8-Hello Corvit\n",
      "9-Hello Corvit\n",
      "10-Hello Corvit\n",
      "11-Hello Corvit\n"
     ]
    }
   ],
   "source": [
    "# break statement\n",
    "for i in range(0, 20):\n",
    "    if i == 12:\n",
    "        break\n",
    "    print(f'{i}-Hello Corvit')"
   ]
  },
  {
   "cell_type": "code",
   "execution_count": null,
   "id": "34ef4076-e36a-4ade-9974-9e9efa5c93a9",
   "metadata": {},
   "outputs": [
    {
     "name": "stdout",
     "output_type": "stream",
     "text": [
      "0-Hello Corvit\n",
      "1-Hello Corvit\n",
      "2-Hello Corvit\n",
      "3-Hello Corvit\n",
      "4-Hello Corvit\n",
      "6-Hello Corvit\n",
      "7-Hello Corvit\n",
      "8-Hello Corvit\n",
      "9-Hello Corvit\n",
      "10-Hello Corvit\n",
      "11-Hello Corvit\n",
      "12-Hello Corvit\n",
      "13-Hello Corvit\n",
      "14-Hello Corvit\n",
      "15-Hello Corvit\n",
      "16-Hello Corvit\n",
      "17-Hello Corvit\n",
      "18-Hello Corvit\n",
      "19-Hello Corvit\n"
     ]
    }
   ],
   "source": [
    "# continue statement\n",
    "for i in range(0, 20):\n",
    "    if i == 5:\n",
    "        continue\n",
    "    print(f'{i}-Hello Corvit')"
   ]
  },
  {
   "cell_type": "code",
   "execution_count": null,
   "id": "0afdd74f-f3e6-4c78-8f8e-0878e19b26a7",
   "metadata": {},
   "outputs": [
    {
     "name": "stdout",
     "output_type": "stream",
     "text": [
      "0-Hello Corvit\n",
      "1-Hello Corvit\n",
      "2-Hello Corvit\n",
      "3-Hello Corvit\n",
      "4-Hello Corvit\n",
      "5-Hello Corvit\n",
      "6-Hello Corvit\n",
      "7-Hello Corvit\n",
      "8-Hello Corvit\n",
      "9-Hello Corvit\n"
     ]
    }
   ],
   "source": [
    "# pass statement\n",
    "for i in range(0, 10):\n",
    "    if i == 5:\n",
    "        pass\n",
    "    print(f'{i}-Hello Corvit')"
   ]
  },
  {
   "cell_type": "code",
   "execution_count": 35,
   "id": "8a99e664-0c16-4757-ba2e-696f76c751af",
   "metadata": {},
   "outputs": [
    {
     "data": {
      "text/plain": [
       "{}"
      ]
     },
     "execution_count": 35,
     "metadata": {},
     "output_type": "execute_result"
    }
   ],
   "source": [
    "# while (condition)\n",
    "{\n",
    "    \n",
    "}"
   ]
  },
  {
   "cell_type": "markdown",
   "id": "864c0776",
   "metadata": {},
   "source": [
    "### Nested Loop"
   ]
  },
  {
   "cell_type": "code",
   "execution_count": 5,
   "id": "d732c6f3-ca3c-4aae-8005-0cfa141df14c",
   "metadata": {},
   "outputs": [
    {
     "name": "stdout",
     "output_type": "stream",
     "text": [
      "0-------Outer Loop----------------\n",
      "0-Inner Loop\n",
      "1-Inner Loop\n",
      "2-Inner Loop\n",
      "1-------Outer Loop----------------\n",
      "0-Inner Loop\n",
      "1-Inner Loop\n",
      "2-Inner Loop\n",
      "2-------Outer Loop----------------\n",
      "0-Inner Loop\n",
      "1-Inner Loop\n",
      "2-Inner Loop\n",
      "3-------Outer Loop----------------\n",
      "0-Inner Loop\n",
      "1-Inner Loop\n",
      "2-Inner Loop\n",
      "4-------Outer Loop----------------\n",
      "0-Inner Loop\n",
      "1-Inner Loop\n",
      "2-Inner Loop\n"
     ]
    }
   ],
   "source": [
    "for i in range(0, 5):\n",
    "    print(f'{i}-------Outer Loop----------------')\n",
    "    for j in range(0, 3):\n",
    "        print(f'{j}-Inner Loop')\n"
   ]
  },
  {
   "cell_type": "code",
   "execution_count": 6,
   "id": "da4127fa-9b5a-401c-a3d2-def63db38509",
   "metadata": {},
   "outputs": [
    {
     "name": "stdout",
     "output_type": "stream",
     "text": [
      "[0, 2, 4, 6, 8, 10, 12, 14, 16, 18]\n"
     ]
    }
   ],
   "source": [
    "even = []\n",
    "for i in range(20):\n",
    "    if i % 2 == 0:\n",
    "        even.append(i)\n",
    "\n",
    "print(even)"
   ]
  },
  {
   "cell_type": "markdown",
   "id": "72983676",
   "metadata": {},
   "source": [
    "### List Comprehesion"
   ]
  },
  {
   "cell_type": "code",
   "execution_count": 44,
   "id": "bf369ac0-8a47-45ba-9d34-bbe6ad9960d8",
   "metadata": {},
   "outputs": [
    {
     "name": "stdout",
     "output_type": "stream",
     "text": [
      "[0, 2, 4, 6, 8, 10, 12, 14, 16, 18]\n"
     ]
    }
   ],
   "source": [
    "x = [i for i in range(20) if i % 2 == 0]\n",
    "print(x)"
   ]
  },
  {
   "cell_type": "markdown",
   "id": "ee25db71",
   "metadata": {},
   "source": [
    "### Iterables"
   ]
  },
  {
   "cell_type": "code",
   "execution_count": 50,
   "id": "5e33d0e6-c947-4eee-a0aa-2a2f34dc1037",
   "metadata": {},
   "outputs": [
    {
     "name": "stdout",
     "output_type": "stream",
     "text": [
      "apple\n",
      "banana\n",
      "cherry\n",
      "mango\n"
     ]
    }
   ],
   "source": [
    "# Iterables\n",
    "fruits = ['apple', 'banana', 'cherry', 'mango']\n",
    "for i in fruits:\n",
    "    print(i)"
   ]
  },
  {
   "cell_type": "code",
   "execution_count": null,
   "id": "290b7497-440d-4140-8144-ed90d5a0b33c",
   "metadata": {},
   "outputs": [
    {
     "name": "stdout",
     "output_type": "stream",
     "text": [
      "a\n",
      "p\n",
      "p\n",
      "l\n",
      "e\n",
      "apple\n",
      "b\n",
      "a\n",
      "n\n",
      "a\n",
      "n\n",
      "a\n",
      "banana\n",
      "c\n",
      "h\n",
      "e\n",
      "r\n",
      "r\n",
      "y\n",
      "cherry\n",
      "m\n",
      "a\n",
      "n\n",
      "g\n",
      "o\n",
      "mango\n"
     ]
    }
   ],
   "source": [
    "# Case no: 1 (Iterables)\n",
    "fruits = ['apple', 'banana', 'cherry', 'mango']\n",
    "for i in fruits:\n",
    "    for x in i:\n",
    "        print(x)\n",
    "    print(i)"
   ]
  },
  {
   "cell_type": "code",
   "execution_count": null,
   "id": "3719bea2-8a3b-465f-900f-9e6e3d2f8d2c",
   "metadata": {},
   "outputs": [
    {
     "name": "stdout",
     "output_type": "stream",
     "text": [
      "a\n",
      "p\n",
      "p\n",
      "l\n",
      "e\n",
      "apple\n",
      "\n",
      "b\n",
      "a\n",
      "n\n",
      "a\n",
      "n\n",
      "a\n",
      "banana\n",
      "\n",
      "c\n",
      "h\n",
      "e\n",
      "r\n",
      "r\n",
      "y\n",
      "cherry\n",
      "\n",
      "m\n",
      "a\n",
      "n\n",
      "g\n",
      "o\n",
      "mango\n",
      "\n"
     ]
    }
   ],
   "source": [
    "# Case no: 2 (Iterables)\n",
    "fruits = ['apple', 'banana', 'cherry', 'mango']\n",
    "for i in fruits:\n",
    "    length = len(i)\n",
    "    for x in range(0, length):\n",
    "        print(i[x])\n",
    "    print(i)\n",
    "    print()"
   ]
  },
  {
   "cell_type": "code",
   "execution_count": null,
   "id": "33adefa6-3c1b-426d-9792-c8a67d7e45a6",
   "metadata": {},
   "outputs": [
    {
     "name": "stdout",
     "output_type": "stream",
     "text": [
      "A\n",
      "B\n",
      "C\n",
      "D\n"
     ]
    }
   ],
   "source": [
    "# Case no: 3 (Iterables)\n",
    "fruits_dict = {'A': 'apple', 'B': 'banana', \n",
    "               'C': 'cherry', 'D': 'Dragon fruits'}\n",
    "\n",
    "for x in fruits_dict:\n",
    "    print(x)"
   ]
  },
  {
   "cell_type": "code",
   "execution_count": null,
   "id": "82bdb9b6-4800-4575-890b-194f12b93507",
   "metadata": {},
   "outputs": [
    {
     "name": "stdout",
     "output_type": "stream",
     "text": [
      "apple\n",
      "banana\n",
      "cherry\n",
      "Dragon fruits\n"
     ]
    }
   ],
   "source": [
    "# Case no: 4 (Iterables)\n",
    "fruits_dict = {'A': 'apple', 'B': 'banana', \n",
    "               'C': 'cherry', 'D': 'Dragon fruits'}\n",
    "\n",
    "for x in fruits_dict.values():\n",
    "    print(x)"
   ]
  },
  {
   "cell_type": "code",
   "execution_count": null,
   "id": "4ccf9918-6d08-49d0-b236-6aca57813870",
   "metadata": {},
   "outputs": [
    {
     "name": "stdout",
     "output_type": "stream",
     "text": [
      "A-apple\n",
      "B-banana\n",
      "C-cherry\n",
      "D-Dragon fruits\n"
     ]
    }
   ],
   "source": [
    "# Case no: 5 (Iterables)\n",
    "fruits_dict = {'A': 'apple', 'B': 'banana', \n",
    "               'C': 'cherry', 'D': 'Dragon fruits'}\n",
    "\n",
    "for x, y in fruits_dict.items():\n",
    "    print(f'{x}-{y}')"
   ]
  },
  {
   "cell_type": "code",
   "execution_count": null,
   "id": "04057bdc-f5ec-451e-99cb-94f008e1ec0f",
   "metadata": {},
   "outputs": [],
   "source": [
    "# Write a program that gets a number, start and end_limit from user and print its table such as:\n",
    "# number = 6\n",
    "# start = 3\n",
    "# end = 12\n",
    "# <format>\n",
    "# 6 * 3 = 18\n",
    "# 6 * 4 = 24\n",
    "# ...\n",
    "# 6 * 12 = 72"
   ]
  }
 ],
 "metadata": {
  "kernelspec": {
   "display_name": "base",
   "language": "python",
   "name": "python3"
  },
  "language_info": {
   "codemirror_mode": {
    "name": "ipython",
    "version": 3
   },
   "file_extension": ".py",
   "mimetype": "text/x-python",
   "name": "python",
   "nbconvert_exporter": "python",
   "pygments_lexer": "ipython3",
   "version": "3.11.5"
  }
 },
 "nbformat": 4,
 "nbformat_minor": 5
}
